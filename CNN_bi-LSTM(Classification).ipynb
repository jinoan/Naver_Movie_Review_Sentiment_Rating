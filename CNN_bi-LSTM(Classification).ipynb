{
 "cells": [
  {
   "cell_type": "code",
   "execution_count": 1,
   "metadata": {},
   "outputs": [
    {
     "name": "stderr",
     "output_type": "stream",
     "text": [
      "C:\\Users\\h2oin\\Anaconda3\\envs\\nlp_env1\\lib\\site-packages\\tensorflow\\python\\framework\\dtypes.py:516: FutureWarning: Passing (type, 1) or '1type' as a synonym of type is deprecated; in a future version of numpy, it will be understood as (type, (1,)) / '(1,)type'.\n",
      "  _np_qint8 = np.dtype([(\"qint8\", np.int8, 1)])\n",
      "C:\\Users\\h2oin\\Anaconda3\\envs\\nlp_env1\\lib\\site-packages\\tensorflow\\python\\framework\\dtypes.py:517: FutureWarning: Passing (type, 1) or '1type' as a synonym of type is deprecated; in a future version of numpy, it will be understood as (type, (1,)) / '(1,)type'.\n",
      "  _np_quint8 = np.dtype([(\"quint8\", np.uint8, 1)])\n",
      "C:\\Users\\h2oin\\Anaconda3\\envs\\nlp_env1\\lib\\site-packages\\tensorflow\\python\\framework\\dtypes.py:518: FutureWarning: Passing (type, 1) or '1type' as a synonym of type is deprecated; in a future version of numpy, it will be understood as (type, (1,)) / '(1,)type'.\n",
      "  _np_qint16 = np.dtype([(\"qint16\", np.int16, 1)])\n",
      "C:\\Users\\h2oin\\Anaconda3\\envs\\nlp_env1\\lib\\site-packages\\tensorflow\\python\\framework\\dtypes.py:519: FutureWarning: Passing (type, 1) or '1type' as a synonym of type is deprecated; in a future version of numpy, it will be understood as (type, (1,)) / '(1,)type'.\n",
      "  _np_quint16 = np.dtype([(\"quint16\", np.uint16, 1)])\n",
      "C:\\Users\\h2oin\\Anaconda3\\envs\\nlp_env1\\lib\\site-packages\\tensorflow\\python\\framework\\dtypes.py:520: FutureWarning: Passing (type, 1) or '1type' as a synonym of type is deprecated; in a future version of numpy, it will be understood as (type, (1,)) / '(1,)type'.\n",
      "  _np_qint32 = np.dtype([(\"qint32\", np.int32, 1)])\n",
      "C:\\Users\\h2oin\\Anaconda3\\envs\\nlp_env1\\lib\\site-packages\\tensorflow\\python\\framework\\dtypes.py:525: FutureWarning: Passing (type, 1) or '1type' as a synonym of type is deprecated; in a future version of numpy, it will be understood as (type, (1,)) / '(1,)type'.\n",
      "  np_resource = np.dtype([(\"resource\", np.ubyte, 1)])\n",
      "C:\\Users\\h2oin\\Anaconda3\\envs\\nlp_env1\\lib\\site-packages\\tensorboard\\compat\\tensorflow_stub\\dtypes.py:541: FutureWarning: Passing (type, 1) or '1type' as a synonym of type is deprecated; in a future version of numpy, it will be understood as (type, (1,)) / '(1,)type'.\n",
      "  _np_qint8 = np.dtype([(\"qint8\", np.int8, 1)])\n",
      "C:\\Users\\h2oin\\Anaconda3\\envs\\nlp_env1\\lib\\site-packages\\tensorboard\\compat\\tensorflow_stub\\dtypes.py:542: FutureWarning: Passing (type, 1) or '1type' as a synonym of type is deprecated; in a future version of numpy, it will be understood as (type, (1,)) / '(1,)type'.\n",
      "  _np_quint8 = np.dtype([(\"quint8\", np.uint8, 1)])\n",
      "C:\\Users\\h2oin\\Anaconda3\\envs\\nlp_env1\\lib\\site-packages\\tensorboard\\compat\\tensorflow_stub\\dtypes.py:543: FutureWarning: Passing (type, 1) or '1type' as a synonym of type is deprecated; in a future version of numpy, it will be understood as (type, (1,)) / '(1,)type'.\n",
      "  _np_qint16 = np.dtype([(\"qint16\", np.int16, 1)])\n",
      "C:\\Users\\h2oin\\Anaconda3\\envs\\nlp_env1\\lib\\site-packages\\tensorboard\\compat\\tensorflow_stub\\dtypes.py:544: FutureWarning: Passing (type, 1) or '1type' as a synonym of type is deprecated; in a future version of numpy, it will be understood as (type, (1,)) / '(1,)type'.\n",
      "  _np_quint16 = np.dtype([(\"quint16\", np.uint16, 1)])\n",
      "C:\\Users\\h2oin\\Anaconda3\\envs\\nlp_env1\\lib\\site-packages\\tensorboard\\compat\\tensorflow_stub\\dtypes.py:545: FutureWarning: Passing (type, 1) or '1type' as a synonym of type is deprecated; in a future version of numpy, it will be understood as (type, (1,)) / '(1,)type'.\n",
      "  _np_qint32 = np.dtype([(\"qint32\", np.int32, 1)])\n",
      "C:\\Users\\h2oin\\Anaconda3\\envs\\nlp_env1\\lib\\site-packages\\tensorboard\\compat\\tensorflow_stub\\dtypes.py:550: FutureWarning: Passing (type, 1) or '1type' as a synonym of type is deprecated; in a future version of numpy, it will be understood as (type, (1,)) / '(1,)type'.\n",
      "  np_resource = np.dtype([(\"resource\", np.ubyte, 1)])\n",
      "Using TensorFlow backend.\n"
     ]
    }
   ],
   "source": [
    "import numpy as np\n",
    "import pandas as pd\n",
    "import tensorflow as tf\n",
    "import keras"
   ]
  },
  {
   "cell_type": "markdown",
   "metadata": {},
   "source": [
    "loading dataset"
   ]
  },
  {
   "cell_type": "code",
   "execution_count": 2,
   "metadata": {},
   "outputs": [],
   "source": [
    "path = './data/'\n",
    "doc = np.load(path+'word_vec.npy', allow_pickle=True)\n",
    "df = df = pd.read_csv(path+'nm_review(score_balanced).tsv', delimiter='\\t', index_col=0)"
   ]
  },
  {
   "cell_type": "code",
   "execution_count": 3,
   "metadata": {},
   "outputs": [
    {
     "name": "stdout",
     "output_type": "stream",
     "text": [
      "doc.shape: (86750,)\n",
      "df.shape: (86750, 7)\n",
      "len(doc[0]): 8\n",
      "df.columns: Index(['code', 'uid', 'datetime', 'score', 'review', 'sympathy',\n",
      "       'notsympathy'],\n",
      "      dtype='object')\n"
     ]
    }
   ],
   "source": [
    "print(f'doc.shape: {doc.shape}')\n",
    "print(f'df.shape: {df.shape}')\n",
    "print(f'len(doc[0]): {len(doc[0])}')\n",
    "print(f'df.columns: {df.columns}')"
   ]
  },
  {
   "cell_type": "markdown",
   "metadata": {},
   "source": [
    "setting random seed"
   ]
  },
  {
   "cell_type": "code",
   "execution_count": 8,
   "metadata": {},
   "outputs": [],
   "source": [
    "# 랜덤시드 설정\n",
    "import random\n",
    "seed_value = 42\n",
    "\n",
    "random.seed(seed_value)\n",
    "np.random.seed(seed_value)\n",
    "tf.set_random_seed(seed_value)"
   ]
  },
  {
   "cell_type": "markdown",
   "metadata": {},
   "source": [
    "splitting dataset"
   ]
  },
  {
   "cell_type": "code",
   "execution_count": 9,
   "metadata": {},
   "outputs": [
    {
     "name": "stdout",
     "output_type": "stream",
     "text": [
      "x_train.shape: (69400,)\n",
      "x_test.shape : (17350,)\n",
      "y_train.shape: (69400,)\n",
      "y_test.shape : (17350,)\n"
     ]
    }
   ],
   "source": [
    "from sklearn.model_selection import train_test_split\n",
    "\n",
    "# train : test = 8 : 2\n",
    "x_train, x_test, y_train, y_test = train_test_split(doc, df['score'], test_size=0.2, shuffle=True, stratify=df['score'])\n",
    "\n",
    "print(f'x_train.shape: {x_train.shape}')\n",
    "print(f'x_test.shape : {x_test.shape}')\n",
    "print(f'y_train.shape: {y_train.shape}')\n",
    "print(f'y_test.shape : {y_test.shape}')"
   ]
  },
  {
   "cell_type": "markdown",
   "metadata": {},
   "source": [
    "feature sequence processing"
   ]
  },
  {
   "cell_type": "code",
   "execution_count": 10,
   "metadata": {},
   "outputs": [],
   "source": [
    "maxlen = max([len(x) for x in doc])"
   ]
  },
  {
   "cell_type": "code",
   "execution_count": 11,
   "metadata": {},
   "outputs": [
    {
     "name": "stdout",
     "output_type": "stream",
     "text": [
      "Pad sequences (samples x time)\n",
      "x_train_seq shape: (69400, 60, 128)\n",
      "x_test_seq shape: (17350, 60, 128)\n"
     ]
    }
   ],
   "source": [
    "from keras.preprocessing import sequence\n",
    "\n",
    "print('Pad sequences (samples x time)')\n",
    "x_train_seq = sequence.pad_sequences(x_train, maxlen=maxlen, dtype='float32', padding='post')\n",
    "x_test_seq = sequence.pad_sequences(x_test, maxlen=maxlen, dtype='float32', padding='post')\n",
    "print('x_train_seq shape:', x_train_seq.shape)\n",
    "print('x_test_seq shape:', x_test_seq.shape)"
   ]
  },
  {
   "cell_type": "markdown",
   "metadata": {},
   "source": [
    "feature scaling"
   ]
  },
  {
   "cell_type": "code",
   "execution_count": 12,
   "metadata": {},
   "outputs": [],
   "source": [
    "from sklearn.preprocessing import MinMaxScaler\n",
    "\n",
    "# min-max scaler\n",
    "mms = MinMaxScaler((-1, 1))\n",
    "mms.fit([[-20.5], [20.5]])\n",
    "for idx, item in enumerate(x_train_seq):\n",
    "    x_train_seq[idx] = mms.transform(item)\n",
    "for idx, item in enumerate(x_test_seq):\n",
    "    x_test_seq[idx] = mms.transform(item)"
   ]
  },
  {
   "cell_type": "markdown",
   "metadata": {},
   "source": [
    "label encoding"
   ]
  },
  {
   "cell_type": "code",
   "execution_count": 13,
   "metadata": {},
   "outputs": [
    {
     "name": "stdout",
     "output_type": "stream",
     "text": [
      "['x0_1' 'x0_2' 'x0_3' 'x0_4' 'x0_5' 'x0_6' 'x0_7' 'x0_8' 'x0_9' 'x0_10']\n"
     ]
    }
   ],
   "source": [
    "from sklearn.preprocessing import OneHotEncoder\n",
    "\n",
    "# one-hot encoder\n",
    "enc = OneHotEncoder(categories='auto')\n",
    "enc.fit(np.array(list(set(y_test))).reshape(-1, 1))\n",
    "print(enc.get_feature_names())\n",
    "\n",
    "# one-hot encoding\n",
    "y_train_enc = enc.transform(np.array(y_train).reshape(-1, 1)).toarray()\n",
    "y_test_enc = enc.transform(np.array(y_test).reshape(-1, 1)).toarray()"
   ]
  },
  {
   "cell_type": "markdown",
   "metadata": {},
   "source": [
    "RNN modeling"
   ]
  },
  {
   "cell_type": "code",
   "execution_count": 14,
   "metadata": {},
   "outputs": [],
   "source": [
    "from __future__ import print_function\n",
    "\n",
    "from keras import layers\n",
    "from keras import models\n",
    "from keras import regularizers\n",
    "from keras.layers import LSTM, Bidirectional, Dense, Dropout"
   ]
  },
  {
   "cell_type": "code",
   "execution_count": 15,
   "metadata": {},
   "outputs": [],
   "source": [
    "def conv_block(x, filter_nums, filter_sizes):\n",
    "    \"\"\"A convolution block\"\"\"\n",
    "    conv_blocks = []\n",
    "\n",
    "    for fn, fs in zip(filter_nums, filter_sizes):\n",
    "        conv = layers.Conv1D(filters=fn,\n",
    "                             kernel_size=fs,\n",
    "                             padding='same',\n",
    "                             activation='relu',\n",
    "                             strides=1)(x)\n",
    "        #conv = layers.GlobalMaxPooling1D()(conv)\n",
    "        conv_blocks.append(conv)\n",
    "\n",
    "    return conv_blocks"
   ]
  },
  {
   "cell_type": "code",
   "execution_count": 16,
   "metadata": {},
   "outputs": [],
   "source": [
    "def create_model():\n",
    "    inputs = layers.Input(shape=(60, 128))\n",
    "    \n",
    "    # CNN\n",
    "    blocks = conv_block(inputs, \n",
    "                        filter_nums=(64, 64, 64, 64), \n",
    "                        filter_sizes=(1, 2, 3, 4))\n",
    "    cnn_outputs = layers.Concatenate()(blocks)\n",
    "    cnn_outputs = Dropout(0.3)(cnn_outputs)\n",
    "    \n",
    "    # Bi-LSTM\n",
    "    lstm_outputs = Bidirectional(\n",
    "        LSTM(64,\n",
    "             dropout=0.3,\n",
    "             recurrent_activation='relu',\n",
    "             recurrent_initializer='glorot_uniform'))(cnn_outputs)\n",
    "    \n",
    "    # outputs\n",
    "    outputs = Dense(128, activation='relu', kernel_initializer='glorot_uniform')(lstm_outputs)\n",
    "    outputs = Dropout(0.2, seed=42)(outputs)\n",
    "    outputs = Dense(10, activation='softmax', kernel_initializer='glorot_uniform',\n",
    "                    kernel_regularizer=regularizers.l2(0.04))(outputs)\n",
    "        \n",
    "    model = models.Model(inputs, outputs)\n",
    "\n",
    "    return model\n"
   ]
  },
  {
   "cell_type": "code",
   "execution_count": 17,
   "metadata": {},
   "outputs": [
    {
     "name": "stdout",
     "output_type": "stream",
     "text": [
      "Model: \"model_1\"\n",
      "__________________________________________________________________________________________________\n",
      "Layer (type)                    Output Shape         Param #     Connected to                     \n",
      "==================================================================================================\n",
      "input_1 (InputLayer)            (None, 60, 128)      0                                            \n",
      "__________________________________________________________________________________________________\n",
      "conv1d_1 (Conv1D)               (None, 60, 64)       8256        input_1[0][0]                    \n",
      "__________________________________________________________________________________________________\n",
      "conv1d_2 (Conv1D)               (None, 60, 64)       16448       input_1[0][0]                    \n",
      "__________________________________________________________________________________________________\n",
      "conv1d_3 (Conv1D)               (None, 60, 64)       24640       input_1[0][0]                    \n",
      "__________________________________________________________________________________________________\n",
      "conv1d_4 (Conv1D)               (None, 60, 64)       32832       input_1[0][0]                    \n",
      "__________________________________________________________________________________________________\n",
      "concatenate_1 (Concatenate)     (None, 60, 256)      0           conv1d_1[0][0]                   \n",
      "                                                                 conv1d_2[0][0]                   \n",
      "                                                                 conv1d_3[0][0]                   \n",
      "                                                                 conv1d_4[0][0]                   \n",
      "__________________________________________________________________________________________________\n",
      "dropout_1 (Dropout)             (None, 60, 256)      0           concatenate_1[0][0]              \n",
      "__________________________________________________________________________________________________\n",
      "bidirectional_1 (Bidirectional) (None, 128)          164352      dropout_1[0][0]                  \n",
      "__________________________________________________________________________________________________\n",
      "dense_1 (Dense)                 (None, 128)          16512       bidirectional_1[0][0]            \n",
      "__________________________________________________________________________________________________\n",
      "dropout_2 (Dropout)             (None, 128)          0           dense_1[0][0]                    \n",
      "__________________________________________________________________________________________________\n",
      "dense_2 (Dense)                 (None, 10)           1290        dropout_2[0][0]                  \n",
      "==================================================================================================\n",
      "Total params: 264,330\n",
      "Trainable params: 264,330\n",
      "Non-trainable params: 0\n",
      "__________________________________________________________________________________________________\n"
     ]
    }
   ],
   "source": [
    "model = create_model()\n",
    "model.summary()"
   ]
  },
  {
   "cell_type": "code",
   "execution_count": 18,
   "metadata": {},
   "outputs": [],
   "source": [
    "# losses and optimizer\n",
    "from keras import backend as K\n",
    "from keras import optimizers\n",
    "\n",
    "def custom_loss(y_true, y_pred):\n",
    "    return tf.reduce_mean(tf.math.squared_difference(y_true - y_pred))\n",
    "\n",
    "def custom_mae(y_true, y_pred):\n",
    "    loss = tf.keras.losses.MAE(\n",
    "        (tf.reduce_sum(y_true*tf.constant(list(range(1, 11)), dtype=tf.float32), axis=1)-1)/9,\n",
    "        (tf.reduce_sum(y_pred*tf.constant(list(range(1, 11)), dtype=tf.float32), axis=1)-1)/9\n",
    "    )\n",
    "    return loss\n",
    "\n",
    "Adam = optimizers.Adam(learning_rate=0.001, clipnorm=0.5)\n",
    "RMSprop = optimizers.RMSprop(learning_rate=0.001, rho=0.9, clipnorm=0.5)"
   ]
  },
  {
   "cell_type": "code",
   "execution_count": 19,
   "metadata": {},
   "outputs": [],
   "source": [
    "# model compile\n",
    "model.compile(optimizer=Adam, loss='categorical_crossentropy', metrics=['accuracy', custom_mae])"
   ]
  },
  {
   "cell_type": "code",
   "execution_count": 20,
   "metadata": {},
   "outputs": [],
   "source": [
    "# early stopping\n",
    "es = keras.callbacks.EarlyStopping(monitor='val_loss', mode='min', verbose=1, patience=30)"
   ]
  },
  {
   "cell_type": "code",
   "execution_count": 21,
   "metadata": {},
   "outputs": [],
   "source": [
    "# checkpoint\n",
    "cp = keras.callbacks.ModelCheckpoint(\n",
    "    './model/ckpt/cnn_bilstm_cls.ckpt', monitor='val_loss', save_best_only=True, save_weights_only=True)"
   ]
  },
  {
   "cell_type": "code",
   "execution_count": 22,
   "metadata": {},
   "outputs": [
    {
     "name": "stdout",
     "output_type": "stream",
     "text": [
      "WARNING:tensorflow:From C:\\Users\\h2oin\\Anaconda3\\envs\\nlp_env1\\lib\\site-packages\\keras\\backend\\tensorflow_backend.py:422: The name tf.global_variables is deprecated. Please use tf.compat.v1.global_variables instead.\n",
      "\n",
      "Train on 55520 samples, validate on 13880 samples\n",
      "Epoch 1/1000\n",
      "55520/55520 [==============================] - 51s 917us/step - loss: 2.4096 - accuracy: 0.1732 - custom_mae: 0.2389 - val_loss: 2.0889 - val_accuracy: 0.2361 - val_custom_mae: 0.2087\n",
      "Epoch 2/1000\n",
      "55520/55520 [==============================] - 47s 842us/step - loss: 2.0625 - accuracy: 0.2246 - custom_mae: 0.2049 - val_loss: 2.0155 - val_accuracy: 0.2411 - val_custom_mae: 0.2006\n",
      "Epoch 3/1000\n",
      "55520/55520 [==============================] - 46s 837us/step - loss: 2.0118 - accuracy: 0.2320 - custom_mae: 0.1992 - val_loss: 1.9831 - val_accuracy: 0.2447 - val_custom_mae: 0.1944\n",
      "Epoch 4/1000\n",
      "55520/55520 [==============================] - 49s 886us/step - loss: 1.9937 - accuracy: 0.2362 - custom_mae: 0.1962 - val_loss: 1.9707 - val_accuracy: 0.2419 - val_custom_mae: 0.1940\n",
      "Epoch 5/1000\n",
      "55520/55520 [==============================] - 50s 905us/step - loss: 1.9816 - accuracy: 0.2418 - custom_mae: 0.1937 - val_loss: 1.9536 - val_accuracy: 0.2502 - val_custom_mae: 0.1922\n",
      "Epoch 6/1000\n",
      "55520/55520 [==============================] - 48s 864us/step - loss: 1.9718 - accuracy: 0.2434 - custom_mae: 0.1921 - val_loss: 1.9493 - val_accuracy: 0.2540 - val_custom_mae: 0.1862\n",
      "Epoch 7/1000\n",
      "55520/55520 [==============================] - 48s 857us/step - loss: 1.9620 - accuracy: 0.2428 - custom_mae: 0.1902 - val_loss: 1.9471 - val_accuracy: 0.2544 - val_custom_mae: 0.1874\n",
      "Epoch 8/1000\n",
      "55520/55520 [==============================] - 48s 859us/step - loss: 1.9505 - accuracy: 0.2479 - custom_mae: 0.1877 - val_loss: 1.9296 - val_accuracy: 0.2560 - val_custom_mae: 0.1880\n",
      "Epoch 9/1000\n",
      "55520/55520 [==============================] - 47s 852us/step - loss: 1.9422 - accuracy: 0.2492 - custom_mae: 0.1864 - val_loss: 1.9269 - val_accuracy: 0.2620 - val_custom_mae: 0.1869\n",
      "Epoch 10/1000\n",
      "55520/55520 [==============================] - 48s 868us/step - loss: 1.9349 - accuracy: 0.2514 - custom_mae: 0.1848 - val_loss: 1.9198 - val_accuracy: 0.2614 - val_custom_mae: 0.1830\n",
      "Epoch 11/1000\n",
      "55520/55520 [==============================] - 50s 902us/step - loss: 1.9293 - accuracy: 0.2543 - custom_mae: 0.1835 - val_loss: 1.9229 - val_accuracy: 0.2581 - val_custom_mae: 0.1849\n",
      "Epoch 12/1000\n",
      "55520/55520 [==============================] - 48s 861us/step - loss: 1.9234 - accuracy: 0.2565 - custom_mae: 0.1825 - val_loss: 1.9128 - val_accuracy: 0.2611 - val_custom_mae: 0.1840\n",
      "Epoch 13/1000\n",
      "55520/55520 [==============================] - 46s 832us/step - loss: 1.9194 - accuracy: 0.2576 - custom_mae: 0.1819 - val_loss: 1.9176 - val_accuracy: 0.2565 - val_custom_mae: 0.1825\n",
      "Epoch 14/1000\n",
      "55520/55520 [==============================] - 47s 845us/step - loss: 1.9139 - accuracy: 0.2581 - custom_mae: 0.1807 - val_loss: 1.9079 - val_accuracy: 0.2657 - val_custom_mae: 0.1813\n",
      "Epoch 15/1000\n",
      "55520/55520 [==============================] - 47s 847us/step - loss: 1.9058 - accuracy: 0.2597 - custom_mae: 0.1789 - val_loss: 1.9049 - val_accuracy: 0.2622 - val_custom_mae: 0.1812\n",
      "Epoch 16/1000\n",
      "55520/55520 [==============================] - 48s 863us/step - loss: 1.9038 - accuracy: 0.2613 - custom_mae: 0.1788 - val_loss: 1.9045 - val_accuracy: 0.2604 - val_custom_mae: 0.1812\n",
      "Epoch 17/1000\n",
      "55520/55520 [==============================] - 47s 846us/step - loss: 1.9004 - accuracy: 0.2602 - custom_mae: 0.1780 - val_loss: 1.8977 - val_accuracy: 0.2677 - val_custom_mae: 0.1800\n",
      "Epoch 18/1000\n",
      "55520/55520 [==============================] - 47s 851us/step - loss: 1.8930 - accuracy: 0.2631 - custom_mae: 0.1767 - val_loss: 1.8961 - val_accuracy: 0.2643 - val_custom_mae: 0.1798\n",
      "Epoch 19/1000\n",
      "55520/55520 [==============================] - 47s 849us/step - loss: 1.8889 - accuracy: 0.2647 - custom_mae: 0.1761 - val_loss: 1.8976 - val_accuracy: 0.2667 - val_custom_mae: 0.1785\n",
      "Epoch 20/1000\n",
      "55520/55520 [==============================] - 48s 870us/step - loss: 1.8850 - accuracy: 0.2668 - custom_mae: 0.1752 - val_loss: 1.8972 - val_accuracy: 0.2589 - val_custom_mae: 0.1793\n",
      "Epoch 21/1000\n",
      "55520/55520 [==============================] - 47s 854us/step - loss: 1.8797 - accuracy: 0.2678 - custom_mae: 0.1743 - val_loss: 1.8939 - val_accuracy: 0.2598 - val_custom_mae: 0.1771\n",
      "Epoch 22/1000\n",
      "55520/55520 [==============================] - 47s 843us/step - loss: 1.8765 - accuracy: 0.2718 - custom_mae: 0.1736 - val_loss: 1.9001 - val_accuracy: 0.2710 - val_custom_mae: 0.1770\n",
      "Epoch 23/1000\n",
      "55520/55520 [==============================] - 47s 838us/step - loss: 1.8737 - accuracy: 0.2709 - custom_mae: 0.1733 - val_loss: 1.8953 - val_accuracy: 0.2612 - val_custom_mae: 0.1775\n",
      "Epoch 24/1000\n",
      "55520/55520 [==============================] - 46s 837us/step - loss: 1.8709 - accuracy: 0.2718 - custom_mae: 0.1727 - val_loss: 1.8895 - val_accuracy: 0.2674 - val_custom_mae: 0.1763\n",
      "Epoch 25/1000\n",
      "55520/55520 [==============================] - 48s 857us/step - loss: 1.8690 - accuracy: 0.2729 - custom_mae: 0.1722 - val_loss: 1.8892 - val_accuracy: 0.2682 - val_custom_mae: 0.1770\n",
      "Epoch 26/1000\n",
      "55520/55520 [==============================] - 47s 850us/step - loss: 1.8683 - accuracy: 0.2694 - custom_mae: 0.1721 - val_loss: 1.8944 - val_accuracy: 0.2682 - val_custom_mae: 0.1762\n",
      "Epoch 27/1000\n",
      "55520/55520 [==============================] - 47s 855us/step - loss: 1.8602 - accuracy: 0.2758 - custom_mae: 0.1707 - val_loss: 1.8900 - val_accuracy: 0.2676 - val_custom_mae: 0.1750\n",
      "Epoch 28/1000\n",
      "55520/55520 [==============================] - 48s 856us/step - loss: 1.8582 - accuracy: 0.2755 - custom_mae: 0.1700 - val_loss: 1.8938 - val_accuracy: 0.2664 - val_custom_mae: 0.1771\n",
      "Epoch 29/1000\n",
      "55520/55520 [==============================] - 48s 863us/step - loss: 1.8563 - accuracy: 0.2763 - custom_mae: 0.1697 - val_loss: 1.8883 - val_accuracy: 0.2664 - val_custom_mae: 0.1757\n",
      "Epoch 30/1000\n",
      "55520/55520 [==============================] - 47s 848us/step - loss: 1.8540 - accuracy: 0.2756 - custom_mae: 0.1697 - val_loss: 1.8898 - val_accuracy: 0.2677 - val_custom_mae: 0.1763\n",
      "Epoch 31/1000\n",
      "55520/55520 [==============================] - 47s 852us/step - loss: 1.8494 - accuracy: 0.2789 - custom_mae: 0.1685 - val_loss: 1.8866 - val_accuracy: 0.2695 - val_custom_mae: 0.1764\n",
      "Epoch 32/1000\n",
      "55520/55520 [==============================] - 48s 862us/step - loss: 1.8442 - accuracy: 0.2795 - custom_mae: 0.1677 - val_loss: 1.8851 - val_accuracy: 0.2717 - val_custom_mae: 0.1770\n",
      "Epoch 33/1000\n",
      "55520/55520 [==============================] - 48s 865us/step - loss: 1.8385 - accuracy: 0.2830 - custom_mae: 0.1669 - val_loss: 1.8918 - val_accuracy: 0.2698 - val_custom_mae: 0.1755\n",
      "Epoch 34/1000\n",
      "55520/55520 [==============================] - 48s 858us/step - loss: 1.8411 - accuracy: 0.2807 - custom_mae: 0.1671 - val_loss: 1.8906 - val_accuracy: 0.2700 - val_custom_mae: 0.1761\n",
      "Epoch 35/1000\n",
      "55520/55520 [==============================] - 48s 866us/step - loss: 1.8354 - accuracy: 0.2809 - custom_mae: 0.1662 - val_loss: 1.8925 - val_accuracy: 0.2657 - val_custom_mae: 0.1754\n",
      "Epoch 36/1000\n",
      "55520/55520 [==============================] - 47s 853us/step - loss: 1.8354 - accuracy: 0.2834 - custom_mae: 0.1659 - val_loss: 1.8936 - val_accuracy: 0.2646 - val_custom_mae: 0.1771\n",
      "Epoch 37/1000\n",
      "55520/55520 [==============================] - 47s 847us/step - loss: 1.8299 - accuracy: 0.2863 - custom_mae: 0.1652 - val_loss: 1.8883 - val_accuracy: 0.2714 - val_custom_mae: 0.1758\n",
      "Epoch 38/1000\n",
      "55520/55520 [==============================] - 48s 862us/step - loss: 1.8270 - accuracy: 0.2848 - custom_mae: 0.1647 - val_loss: 1.8848 - val_accuracy: 0.2720 - val_custom_mae: 0.1750\n",
      "Epoch 39/1000\n",
      "55520/55520 [==============================] - 48s 863us/step - loss: 1.8237 - accuracy: 0.2863 - custom_mae: 0.1641 - val_loss: 1.8900 - val_accuracy: 0.2706 - val_custom_mae: 0.1756\n",
      "Epoch 40/1000\n",
      "55520/55520 [==============================] - 47s 855us/step - loss: 1.8232 - accuracy: 0.2873 - custom_mae: 0.1637 - val_loss: 1.8891 - val_accuracy: 0.2700 - val_custom_mae: 0.1749\n",
      "Epoch 41/1000\n"
     ]
    },
    {
     "name": "stdout",
     "output_type": "stream",
     "text": [
      "55520/55520 [==============================] - 48s 856us/step - loss: 1.8199 - accuracy: 0.2885 - custom_mae: 0.1636 - val_loss: 1.8879 - val_accuracy: 0.2695 - val_custom_mae: 0.1747\n",
      "Epoch 42/1000\n",
      "55520/55520 [==============================] - 48s 862us/step - loss: 1.8208 - accuracy: 0.2865 - custom_mae: 0.1633 - val_loss: 1.8861 - val_accuracy: 0.2735 - val_custom_mae: 0.1751\n",
      "Epoch 43/1000\n",
      "55520/55520 [==============================] - 47s 853us/step - loss: 1.8163 - accuracy: 0.2918 - custom_mae: 0.1632 - val_loss: 1.8817 - val_accuracy: 0.2759 - val_custom_mae: 0.1752\n",
      "Epoch 44/1000\n",
      "55520/55520 [==============================] - 48s 862us/step - loss: 1.8123 - accuracy: 0.2912 - custom_mae: 0.1624 - val_loss: 1.8908 - val_accuracy: 0.2656 - val_custom_mae: 0.1757\n",
      "Epoch 45/1000\n",
      "55520/55520 [==============================] - 48s 870us/step - loss: 1.8113 - accuracy: 0.2915 - custom_mae: 0.1621 - val_loss: 1.8874 - val_accuracy: 0.2757 - val_custom_mae: 0.1766\n",
      "Epoch 46/1000\n",
      "55520/55520 [==============================] - 48s 857us/step - loss: 1.8077 - accuracy: 0.2940 - custom_mae: 0.1615 - val_loss: 1.8948 - val_accuracy: 0.2674 - val_custom_mae: 0.1751\n",
      "Epoch 47/1000\n",
      "55520/55520 [==============================] - 48s 869us/step - loss: 1.8067 - accuracy: 0.2935 - custom_mae: 0.1612 - val_loss: 1.8914 - val_accuracy: 0.2686 - val_custom_mae: 0.1759\n",
      "Epoch 48/1000\n",
      "55520/55520 [==============================] - 48s 859us/step - loss: 1.8018 - accuracy: 0.2934 - custom_mae: 0.1602 - val_loss: 1.8912 - val_accuracy: 0.2692 - val_custom_mae: 0.1762\n",
      "Epoch 49/1000\n",
      "55520/55520 [==============================] - 47s 849us/step - loss: 1.7978 - accuracy: 0.2918 - custom_mae: 0.1600 - val_loss: 1.8975 - val_accuracy: 0.2698 - val_custom_mae: 0.1746\n",
      "Epoch 50/1000\n",
      "55520/55520 [==============================] - 48s 861us/step - loss: 1.8002 - accuracy: 0.2931 - custom_mae: 0.1603 - val_loss: 1.8933 - val_accuracy: 0.2714 - val_custom_mae: 0.1741\n",
      "Epoch 51/1000\n",
      "55520/55520 [==============================] - 47s 850us/step - loss: 1.7955 - accuracy: 0.2952 - custom_mae: 0.1591 - val_loss: 1.8962 - val_accuracy: 0.2710 - val_custom_mae: 0.1746\n",
      "Epoch 52/1000\n",
      "55520/55520 [==============================] - 47s 841us/step - loss: 1.7929 - accuracy: 0.2970 - custom_mae: 0.1592 - val_loss: 1.9030 - val_accuracy: 0.2613 - val_custom_mae: 0.1756\n",
      "Epoch 53/1000\n",
      "55520/55520 [==============================] - 48s 856us/step - loss: 1.7889 - accuracy: 0.2989 - custom_mae: 0.1587 - val_loss: 1.8954 - val_accuracy: 0.2684 - val_custom_mae: 0.1749\n",
      "Epoch 54/1000\n",
      "55520/55520 [==============================] - 48s 868us/step - loss: 1.7915 - accuracy: 0.2988 - custom_mae: 0.1587 - val_loss: 1.8966 - val_accuracy: 0.2705 - val_custom_mae: 0.1750\n",
      "Epoch 55/1000\n",
      "55520/55520 [==============================] - 48s 858us/step - loss: 1.7893 - accuracy: 0.2977 - custom_mae: 0.1581 - val_loss: 1.9101 - val_accuracy: 0.2612 - val_custom_mae: 0.1757\n",
      "Epoch 56/1000\n",
      "55520/55520 [==============================] - 48s 860us/step - loss: 1.7833 - accuracy: 0.2989 - custom_mae: 0.1574 - val_loss: 1.9060 - val_accuracy: 0.2632 - val_custom_mae: 0.1757\n",
      "Epoch 57/1000\n",
      "55520/55520 [==============================] - 48s 862us/step - loss: 1.7861 - accuracy: 0.2999 - custom_mae: 0.1579 - val_loss: 1.8986 - val_accuracy: 0.2743 - val_custom_mae: 0.1748\n",
      "Epoch 58/1000\n",
      "55520/55520 [==============================] - 47s 851us/step - loss: 1.7802 - accuracy: 0.3009 - custom_mae: 0.1570 - val_loss: 1.8960 - val_accuracy: 0.2723 - val_custom_mae: 0.1742\n",
      "Epoch 59/1000\n",
      "55520/55520 [==============================] - 47s 850us/step - loss: 1.7831 - accuracy: 0.2998 - custom_mae: 0.1576 - val_loss: 1.9028 - val_accuracy: 0.2664 - val_custom_mae: 0.1767\n",
      "Epoch 60/1000\n",
      "55520/55520 [==============================] - 47s 843us/step - loss: 1.7796 - accuracy: 0.3017 - custom_mae: 0.1566 - val_loss: 1.8969 - val_accuracy: 0.2712 - val_custom_mae: 0.1742\n",
      "Epoch 61/1000\n",
      "55520/55520 [==============================] - 48s 861us/step - loss: 1.7756 - accuracy: 0.3026 - custom_mae: 0.1565 - val_loss: 1.9009 - val_accuracy: 0.2692 - val_custom_mae: 0.1755\n",
      "Epoch 62/1000\n",
      "55520/55520 [==============================] - 48s 861us/step - loss: 1.7701 - accuracy: 0.3042 - custom_mae: 0.1555 - val_loss: 1.9054 - val_accuracy: 0.2692 - val_custom_mae: 0.1743\n",
      "Epoch 63/1000\n",
      "55520/55520 [==============================] - 47s 850us/step - loss: 1.7705 - accuracy: 0.3037 - custom_mae: 0.1549 - val_loss: 1.9002 - val_accuracy: 0.2643 - val_custom_mae: 0.1761\n",
      "Epoch 64/1000\n",
      "55520/55520 [==============================] - 48s 860us/step - loss: 1.7688 - accuracy: 0.3068 - custom_mae: 0.1552 - val_loss: 1.9032 - val_accuracy: 0.2646 - val_custom_mae: 0.1747\n",
      "Epoch 65/1000\n",
      "55520/55520 [==============================] - 47s 846us/step - loss: 1.7654 - accuracy: 0.3068 - custom_mae: 0.1542 - val_loss: 1.9065 - val_accuracy: 0.2706 - val_custom_mae: 0.1757\n",
      "Epoch 66/1000\n",
      "55520/55520 [==============================] - 47s 850us/step - loss: 1.7637 - accuracy: 0.3082 - custom_mae: 0.1545 - val_loss: 1.9047 - val_accuracy: 0.2692 - val_custom_mae: 0.1744\n",
      "Epoch 67/1000\n",
      "55520/55520 [==============================] - 47s 855us/step - loss: 1.7633 - accuracy: 0.3068 - custom_mae: 0.1542 - val_loss: 1.9120 - val_accuracy: 0.2755 - val_custom_mae: 0.1746\n",
      "Epoch 68/1000\n",
      "55520/55520 [==============================] - 47s 840us/step - loss: 1.7600 - accuracy: 0.3093 - custom_mae: 0.1539 - val_loss: 1.9077 - val_accuracy: 0.2710 - val_custom_mae: 0.1750\n",
      "Epoch 69/1000\n",
      "55520/55520 [==============================] - 47s 845us/step - loss: 1.7643 - accuracy: 0.3052 - custom_mae: 0.1541 - val_loss: 1.9068 - val_accuracy: 0.2725 - val_custom_mae: 0.1742\n",
      "Epoch 70/1000\n",
      "55520/55520 [==============================] - 48s 859us/step - loss: 1.7587 - accuracy: 0.3087 - custom_mae: 0.1533 - val_loss: 1.9050 - val_accuracy: 0.2716 - val_custom_mae: 0.1752\n",
      "Epoch 71/1000\n",
      "55520/55520 [==============================] - 48s 856us/step - loss: 1.7546 - accuracy: 0.3082 - custom_mae: 0.1530 - val_loss: 1.9212 - val_accuracy: 0.2659 - val_custom_mae: 0.1746\n",
      "Epoch 72/1000\n",
      "55520/55520 [==============================] - 47s 851us/step - loss: 1.7528 - accuracy: 0.3108 - custom_mae: 0.1528 - val_loss: 1.9177 - val_accuracy: 0.2739 - val_custom_mae: 0.1748\n",
      "Epoch 73/1000\n",
      "55520/55520 [==============================] - 47s 838us/step - loss: 1.7498 - accuracy: 0.3106 - custom_mae: 0.1522 - val_loss: 1.9119 - val_accuracy: 0.2687 - val_custom_mae: 0.1750\n",
      "Epoch 00073: early stopping\n"
     ]
    }
   ],
   "source": [
    "# learn\n",
    "history = model.fit(x_train_seq, y_train_enc, batch_size=256, epochs=1000, validation_split=0.2, shuffle=True,\n",
    "                    callbacks=[es, cp])"
   ]
  },
  {
   "cell_type": "code",
   "execution_count": 27,
   "metadata": {},
   "outputs": [],
   "source": [
    "# checkpoint load\n",
    "model.load_weights('./model/ckpt/cnn_bilstm_cls.ckpt')"
   ]
  },
  {
   "cell_type": "code",
   "execution_count": 28,
   "metadata": {},
   "outputs": [
    {
     "name": "stdout",
     "output_type": "stream",
     "text": [
      "17350/17350 [==============================] - 42s 2ms/step\n",
      "loss: 1.909070 - acc: 0.265706 - mae: 0.177284\n"
     ]
    }
   ],
   "source": [
    "# 모델 평가\n",
    "results = model.evaluate(x_test_seq, y_test_enc)\n",
    "print('loss: {:.6f} - acc: {:.6f} - mae: {:.6f}'.format(*results))"
   ]
  },
  {
   "cell_type": "code",
   "execution_count": 25,
   "metadata": {},
   "outputs": [
    {
     "data": {
      "image/png": "[encoded data removed]",
      "text/plain": [
       "<Figure size 432x288 with 1 Axes>"
      ]
     },
     "metadata": {
      "needs_background": "light"
     },
     "output_type": "display_data"
    }
   ],
   "source": [
    "import matplotlib.pyplot as plt\n",
    "for name, value in history.history.items():\n",
    "    plt.plot(value, label=name)\n",
    "\n",
    "plt.legend()\n",
    "plt.show()"
   ]
  },
  {
   "cell_type": "code",
   "execution_count": 26,
   "metadata": {},
   "outputs": [
    {
     "data": {
      "image/png": "[encoded data removed]",
      "text/plain": [
       "<Figure size 432x288 with 1 Axes>"
      ]
     },
     "metadata": {
      "needs_background": "light"
     },
     "output_type": "display_data"
    }
   ],
   "source": [
    "import matplotlib.pyplot as plt\n",
    "plt.plot(history.history['loss'], label='loss')\n",
    "plt.plot(history.history['val_loss'], label='val_loss')\n",
    "plt.legend()\n",
    "plt.show()"
   ]
  },
  {
   "cell_type": "markdown",
   "metadata": {},
   "source": [
    "predicting"
   ]
  },
  {
   "cell_type": "code",
   "execution_count": 29,
   "metadata": {
    "scrolled": false
   },
   "outputs": [],
   "source": [
    "import numpy as np\n",
    "from gensim.models import FastText\n",
    "\n",
    "ft_model = FastText.load('./model/fasttext_model')"
   ]
  },
  {
   "cell_type": "code",
   "execution_count": 30,
   "metadata": {},
   "outputs": [],
   "source": [
    "from hg_encoder import encode\n",
    "\n",
    "def get_vector(query):\n",
    "    query_ = encode(query)\n",
    "    wv = ft_model.wv.get_vector(query_)\n",
    "    return wv"
   ]
  },
  {
   "cell_type": "code",
   "execution_count": 31,
   "metadata": {},
   "outputs": [],
   "source": [
    "from keras.preprocessing import sequence\n",
    "from sklearn.preprocessing import MinMaxScaler\n",
    "\n",
    "# min-max scaler\n",
    "mms = MinMaxScaler((-1, 1))\n",
    "mms.fit([[-20.5], [20.5]])\n",
    "\n",
    "text = '정말 기대 했는데 노잼입니다'\n",
    "wvs = np.array([get_vector(t) for t in text.split(' ')])\n",
    "wvs = mms.transform(wvs)\n",
    "wvs_seq = sequence.pad_sequences(wvs.reshape(1, wvs.shape[0], -1), maxlen=60, dtype='float32', padding='post')"
   ]
  },
  {
   "cell_type": "code",
   "execution_count": 32,
   "metadata": {},
   "outputs": [
    {
     "name": "stdout",
     "output_type": "stream",
     "text": [
      "[[0.09242544 0.15534446 0.30238512 0.25249517 0.11166856 0.06442697\n",
      "  0.01614542 0.00313298 0.00123147 0.00074438]]\n",
      "argmax score: 3\n",
      "weighted sum score: 3.421764\n"
     ]
    }
   ],
   "source": [
    "test_pred = model.predict(wvs_seq)\n",
    "print(model.predict(wvs_seq))\n",
    "print('argmax score: {}'.format(np.argmax(test_pred) + 1))\n",
    "print('weighted sum score: {:.6f}'.format(sum(test_pred[0]*range(1, 11))))"
   ]
  },
  {
   "cell_type": "markdown",
   "metadata": {},
   "source": [
    "saving & loading model"
   ]
  },
  {
   "cell_type": "code",
   "execution_count": 36,
   "metadata": {},
   "outputs": [],
   "source": [
    "# save model\n",
    "model.save_weights('./model/cnn_bilstm_cls')"
   ]
  },
  {
   "cell_type": "code",
   "execution_count": 92,
   "metadata": {},
   "outputs": [],
   "source": [
    "# load model\n",
    "model.load_weights('./model/cnn_bilstm_cls')"
   ]
  },
  {
   "cell_type": "markdown",
   "metadata": {},
   "source": [
    "평점 예측기 모듈화"
   ]
  },
  {
   "cell_type": "code",
   "execution_count": 93,
   "metadata": {},
   "outputs": [
    {
     "ename": "ValueError",
     "evalue": "Error when checking input: expected sequential_1_input to have shape (60, 100) but got array with shape (60, 128)",
     "output_type": "error",
     "traceback": [
      "\u001b[1;31m---------------------------------------------------------------------------\u001b[0m",
      "\u001b[1;31mValueError\u001b[0m                                Traceback (most recent call last)",
      "\u001b[1;32m<ipython-input-93-2bcda2ffefd3>\u001b[0m in \u001b[0;36m<module>\u001b[1;34m\u001b[0m\n\u001b[0;32m      1\u001b[0m \u001b[1;32mfrom\u001b[0m \u001b[0mlstm_predictor\u001b[0m \u001b[1;32mimport\u001b[0m \u001b[0mpredict\u001b[0m\u001b[1;33m,\u001b[0m \u001b[0margmax_score\u001b[0m\u001b[1;33m,\u001b[0m \u001b[0mweighted_sum_score\u001b[0m\u001b[1;33m\u001b[0m\u001b[1;33m\u001b[0m\u001b[0m\n\u001b[0;32m      2\u001b[0m \u001b[0mtext\u001b[0m \u001b[1;33m=\u001b[0m \u001b[1;34m'인생작 중 하나입니다.'\u001b[0m\u001b[1;33m\u001b[0m\u001b[1;33m\u001b[0m\u001b[0m\n\u001b[1;32m----> 3\u001b[1;33m \u001b[0mprint\u001b[0m\u001b[1;33m(\u001b[0m\u001b[0mpredict\u001b[0m\u001b[1;33m(\u001b[0m\u001b[0mtext\u001b[0m\u001b[1;33m)\u001b[0m\u001b[1;33m)\u001b[0m\u001b[1;33m\u001b[0m\u001b[1;33m\u001b[0m\u001b[0m\n\u001b[0m\u001b[0;32m      4\u001b[0m \u001b[0mprint\u001b[0m\u001b[1;33m(\u001b[0m\u001b[0margmax_score\u001b[0m\u001b[1;33m(\u001b[0m\u001b[0mtext\u001b[0m\u001b[1;33m)\u001b[0m\u001b[1;33m)\u001b[0m\u001b[1;33m\u001b[0m\u001b[1;33m\u001b[0m\u001b[0m\n\u001b[0;32m      5\u001b[0m \u001b[0mprint\u001b[0m\u001b[1;33m(\u001b[0m\u001b[0mweighted_sum_score\u001b[0m\u001b[1;33m(\u001b[0m\u001b[0mtext\u001b[0m\u001b[1;33m)\u001b[0m\u001b[1;33m)\u001b[0m\u001b[1;33m\u001b[0m\u001b[1;33m\u001b[0m\u001b[0m\n",
      "\u001b[1;32mc:\\GitProject\\ai_school\\proj\\lstm_predictor.py\u001b[0m in \u001b[0;36mpredict\u001b[1;34m(text)\u001b[0m\n\u001b[0;32m     10\u001b[0m     \u001b[0mwvs\u001b[0m \u001b[1;33m=\u001b[0m \u001b[0mnp\u001b[0m\u001b[1;33m.\u001b[0m\u001b[0marray\u001b[0m\u001b[1;33m(\u001b[0m\u001b[1;33m[\u001b[0m\u001b[0mft_model\u001b[0m\u001b[1;33m.\u001b[0m\u001b[0mwv\u001b[0m\u001b[1;33m.\u001b[0m\u001b[0mget_vector\u001b[0m\u001b[1;33m(\u001b[0m\u001b[0mencode\u001b[0m\u001b[1;33m(\u001b[0m\u001b[0mt\u001b[0m\u001b[1;33m)\u001b[0m\u001b[1;33m)\u001b[0m \u001b[1;32mfor\u001b[0m \u001b[0mt\u001b[0m \u001b[1;32min\u001b[0m \u001b[0mtext\u001b[0m\u001b[1;33m.\u001b[0m\u001b[0msplit\u001b[0m\u001b[1;33m(\u001b[0m\u001b[1;34m' '\u001b[0m\u001b[1;33m)\u001b[0m\u001b[1;33m]\u001b[0m\u001b[1;33m)\u001b[0m\u001b[1;33m\u001b[0m\u001b[1;33m\u001b[0m\u001b[0m\n\u001b[0;32m     11\u001b[0m     \u001b[0mwvs_seq\u001b[0m \u001b[1;33m=\u001b[0m \u001b[0msequence\u001b[0m\u001b[1;33m.\u001b[0m\u001b[0mpad_sequences\u001b[0m\u001b[1;33m(\u001b[0m\u001b[0mwvs\u001b[0m\u001b[1;33m.\u001b[0m\u001b[0mreshape\u001b[0m\u001b[1;33m(\u001b[0m\u001b[1;36m1\u001b[0m\u001b[1;33m,\u001b[0m \u001b[0mwvs\u001b[0m\u001b[1;33m.\u001b[0m\u001b[0mshape\u001b[0m\u001b[1;33m[\u001b[0m\u001b[1;36m0\u001b[0m\u001b[1;33m]\u001b[0m\u001b[1;33m,\u001b[0m \u001b[1;33m-\u001b[0m\u001b[1;36m1\u001b[0m\u001b[1;33m)\u001b[0m\u001b[1;33m,\u001b[0m \u001b[0mmaxlen\u001b[0m\u001b[1;33m=\u001b[0m\u001b[1;36m60\u001b[0m\u001b[1;33m,\u001b[0m \u001b[0mdtype\u001b[0m\u001b[1;33m=\u001b[0m\u001b[1;34m'float32'\u001b[0m\u001b[1;33m)\u001b[0m\u001b[1;33m\u001b[0m\u001b[1;33m\u001b[0m\u001b[0m\n\u001b[1;32m---> 12\u001b[1;33m     \u001b[1;32mreturn\u001b[0m \u001b[0mmodel\u001b[0m\u001b[1;33m.\u001b[0m\u001b[0mpredict\u001b[0m\u001b[1;33m(\u001b[0m\u001b[0mwvs_seq\u001b[0m\u001b[1;33m)\u001b[0m\u001b[1;33m\u001b[0m\u001b[1;33m\u001b[0m\u001b[0m\n\u001b[0m\u001b[0;32m     13\u001b[0m \u001b[1;33m\u001b[0m\u001b[0m\n\u001b[0;32m     14\u001b[0m \u001b[1;32mdef\u001b[0m \u001b[0margmax_score\u001b[0m\u001b[1;33m(\u001b[0m\u001b[0mtext\u001b[0m\u001b[1;33m)\u001b[0m\u001b[1;33m:\u001b[0m\u001b[1;33m\u001b[0m\u001b[1;33m\u001b[0m\u001b[0m\n",
      "\u001b[1;32m~Anaconda3\\envs\\nlp_env1\\lib\\site-packages\\keras\\engine\\training.py\u001b[0m in \u001b[0;36mpredict\u001b[1;34m(self, x, batch_size, verbose, steps, callbacks, max_queue_size, workers, use_multiprocessing)\u001b[0m\n\u001b[0;32m   1439\u001b[0m \u001b[1;33m\u001b[0m\u001b[0m\n\u001b[0;32m   1440\u001b[0m         \u001b[1;31m# Case 2: Symbolic tensors or Numpy array-like.\u001b[0m\u001b[1;33m\u001b[0m\u001b[1;33m\u001b[0m\u001b[1;33m\u001b[0m\u001b[0m\n\u001b[1;32m-> 1441\u001b[1;33m         \u001b[0mx\u001b[0m\u001b[1;33m,\u001b[0m \u001b[0m_\u001b[0m\u001b[1;33m,\u001b[0m \u001b[0m_\u001b[0m \u001b[1;33m=\u001b[0m \u001b[0mself\u001b[0m\u001b[1;33m.\u001b[0m\u001b[0m_standardize_user_data\u001b[0m\u001b[1;33m(\u001b[0m\u001b[0mx\u001b[0m\u001b[1;33m)\u001b[0m\u001b[1;33m\u001b[0m\u001b[1;33m\u001b[0m\u001b[0m\n\u001b[0m\u001b[0;32m   1442\u001b[0m         \u001b[1;32mif\u001b[0m \u001b[0mself\u001b[0m\u001b[1;33m.\u001b[0m\u001b[0mstateful\u001b[0m\u001b[1;33m:\u001b[0m\u001b[1;33m\u001b[0m\u001b[1;33m\u001b[0m\u001b[0m\n\u001b[0;32m   1443\u001b[0m             \u001b[1;32mif\u001b[0m \u001b[0mx\u001b[0m\u001b[1;33m[\u001b[0m\u001b[1;36m0\u001b[0m\u001b[1;33m]\u001b[0m\u001b[1;33m.\u001b[0m\u001b[0mshape\u001b[0m\u001b[1;33m[\u001b[0m\u001b[1;36m0\u001b[0m\u001b[1;33m]\u001b[0m \u001b[1;33m>\u001b[0m \u001b[0mbatch_size\u001b[0m \u001b[1;32mand\u001b[0m \u001b[0mx\u001b[0m\u001b[1;33m[\u001b[0m\u001b[1;36m0\u001b[0m\u001b[1;33m]\u001b[0m\u001b[1;33m.\u001b[0m\u001b[0mshape\u001b[0m\u001b[1;33m[\u001b[0m\u001b[1;36m0\u001b[0m\u001b[1;33m]\u001b[0m \u001b[1;33m%\u001b[0m \u001b[0mbatch_size\u001b[0m \u001b[1;33m!=\u001b[0m \u001b[1;36m0\u001b[0m\u001b[1;33m:\u001b[0m\u001b[1;33m\u001b[0m\u001b[1;33m\u001b[0m\u001b[0m\n",
      "\u001b[1;32m~Anaconda3\\envs\\nlp_env1\\lib\\site-packages\\keras\\engine\\training.py\u001b[0m in \u001b[0;36m_standardize_user_data\u001b[1;34m(self, x, y, sample_weight, class_weight, check_array_lengths, batch_size)\u001b[0m\n\u001b[0;32m    577\u001b[0m             \u001b[0mfeed_input_shapes\u001b[0m\u001b[1;33m,\u001b[0m\u001b[1;33m\u001b[0m\u001b[1;33m\u001b[0m\u001b[0m\n\u001b[0;32m    578\u001b[0m             \u001b[0mcheck_batch_axis\u001b[0m\u001b[1;33m=\u001b[0m\u001b[1;32mFalse\u001b[0m\u001b[1;33m,\u001b[0m  \u001b[1;31m# Don't enforce the batch size.\u001b[0m\u001b[1;33m\u001b[0m\u001b[1;33m\u001b[0m\u001b[0m\n\u001b[1;32m--> 579\u001b[1;33m             exception_prefix='input')\n\u001b[0m\u001b[0;32m    580\u001b[0m \u001b[1;33m\u001b[0m\u001b[0m\n\u001b[0;32m    581\u001b[0m         \u001b[1;32mif\u001b[0m \u001b[0my\u001b[0m \u001b[1;32mis\u001b[0m \u001b[1;32mnot\u001b[0m \u001b[1;32mNone\u001b[0m\u001b[1;33m:\u001b[0m\u001b[1;33m\u001b[0m\u001b[1;33m\u001b[0m\u001b[0m\n",
      "\u001b[1;32m~Anaconda3\\envs\\nlp_env1\\lib\\site-packages\\keras\\engine\\training_utils.py\u001b[0m in \u001b[0;36mstandardize_input_data\u001b[1;34m(data, names, shapes, check_batch_axis, exception_prefix)\u001b[0m\n\u001b[0;32m    143\u001b[0m                             \u001b[1;34m': expected '\u001b[0m \u001b[1;33m+\u001b[0m \u001b[0mnames\u001b[0m\u001b[1;33m[\u001b[0m\u001b[0mi\u001b[0m\u001b[1;33m]\u001b[0m \u001b[1;33m+\u001b[0m \u001b[1;34m' to have shape '\u001b[0m \u001b[1;33m+\u001b[0m\u001b[1;33m\u001b[0m\u001b[1;33m\u001b[0m\u001b[0m\n\u001b[0;32m    144\u001b[0m                             \u001b[0mstr\u001b[0m\u001b[1;33m(\u001b[0m\u001b[0mshape\u001b[0m\u001b[1;33m)\u001b[0m \u001b[1;33m+\u001b[0m \u001b[1;34m' but got array with shape '\u001b[0m \u001b[1;33m+\u001b[0m\u001b[1;33m\u001b[0m\u001b[1;33m\u001b[0m\u001b[0m\n\u001b[1;32m--> 145\u001b[1;33m                             str(data_shape))\n\u001b[0m\u001b[0;32m    146\u001b[0m     \u001b[1;32mreturn\u001b[0m \u001b[0mdata\u001b[0m\u001b[1;33m\u001b[0m\u001b[1;33m\u001b[0m\u001b[0m\n\u001b[0;32m    147\u001b[0m \u001b[1;33m\u001b[0m\u001b[0m\n",
      "\u001b[1;31mValueError\u001b[0m: Error when checking input: expected sequential_1_input to have shape (60, 100) but got array with shape (60, 128)"
     ]
    }
   ],
   "source": [
    "from lstm_predictor import predict, argmax_score, weighted_sum_score\n",
    "text = '인생작 중 하나입니다.'\n",
    "print(predict(text))\n",
    "print(argmax_score(text))\n",
    "print(weighted_sum_score(text))"
   ]
  },
  {
   "cell_type": "code",
   "execution_count": 10,
   "metadata": {},
   "outputs": [
    {
     "name": "stdout",
     "output_type": "stream",
     "text": [
      "[[2.5813854e-01 2.9679337e-01 1.4852859e-01 1.8646912e-01 9.0049468e-02\n",
      "  1.6015867e-02 2.2455275e-03 6.0565042e-04 2.6135668e-04 8.9249172e-04]]\n",
      "2\n",
      "2.6213711071468424\n"
     ]
    }
   ],
   "source": [
    "text = '이거 망작임... 노잼..'\n",
    "print(predict(text))\n",
    "print(argmax_score(text))\n",
    "print(weighted_sum_score(text))"
   ]
  },
  {
   "cell_type": "code",
   "execution_count": 12,
   "metadata": {},
   "outputs": [
    {
     "name": "stdout",
     "output_type": "stream",
     "text": [
      "[[0.0012155  0.00216439 0.00466361 0.01581859 0.04261071 0.23804\n",
      "  0.29359055 0.35419318 0.03591179 0.01179175]]\n",
      "8\n",
      "7.053905818378553\n"
     ]
    }
   ],
   "source": [
    "text = '가볍게 보기엔 괜찮은듯'\n",
    "print(predict(text))\n",
    "print(argmax_score(text))\n",
    "print(weighted_sum_score(text))"
   ]
  },
  {
   "cell_type": "code",
   "execution_count": 1,
   "metadata": {},
   "outputs": [
    {
     "name": "stderr",
     "output_type": "stream",
     "text": [
      "Using TensorFlow backend.\n",
      "C:\\Users\\h2oin\\Anaconda3\\envs\\nlp_env1\\lib\\site-packages\\tensorflow\\python\\framework\\dtypes.py:516: FutureWarning: Passing (type, 1) or '1type' as a synonym of type is deprecated; in a future version of numpy, it will be understood as (type, (1,)) / '(1,)type'.\n",
      "  _np_qint8 = np.dtype([(\"qint8\", np.int8, 1)])\n",
      "C:\\Users\\h2oin\\Anaconda3\\envs\\nlp_env1\\lib\\site-packages\\tensorflow\\python\\framework\\dtypes.py:517: FutureWarning: Passing (type, 1) or '1type' as a synonym of type is deprecated; in a future version of numpy, it will be understood as (type, (1,)) / '(1,)type'.\n",
      "  _np_quint8 = np.dtype([(\"quint8\", np.uint8, 1)])\n",
      "C:\\Users\\h2oin\\Anaconda3\\envs\\nlp_env1\\lib\\site-packages\\tensorflow\\python\\framework\\dtypes.py:518: FutureWarning: Passing (type, 1) or '1type' as a synonym of type is deprecated; in a future version of numpy, it will be understood as (type, (1,)) / '(1,)type'.\n",
      "  _np_qint16 = np.dtype([(\"qint16\", np.int16, 1)])\n",
      "C:\\Users\\h2oin\\Anaconda3\\envs\\nlp_env1\\lib\\site-packages\\tensorflow\\python\\framework\\dtypes.py:519: FutureWarning: Passing (type, 1) or '1type' as a synonym of type is deprecated; in a future version of numpy, it will be understood as (type, (1,)) / '(1,)type'.\n",
      "  _np_quint16 = np.dtype([(\"quint16\", np.uint16, 1)])\n",
      "C:\\Users\\h2oin\\Anaconda3\\envs\\nlp_env1\\lib\\site-packages\\tensorflow\\python\\framework\\dtypes.py:520: FutureWarning: Passing (type, 1) or '1type' as a synonym of type is deprecated; in a future version of numpy, it will be understood as (type, (1,)) / '(1,)type'.\n",
      "  _np_qint32 = np.dtype([(\"qint32\", np.int32, 1)])\n",
      "C:\\Users\\h2oin\\Anaconda3\\envs\\nlp_env1\\lib\\site-packages\\tensorflow\\python\\framework\\dtypes.py:525: FutureWarning: Passing (type, 1) or '1type' as a synonym of type is deprecated; in a future version of numpy, it will be understood as (type, (1,)) / '(1,)type'.\n",
      "  np_resource = np.dtype([(\"resource\", np.ubyte, 1)])\n",
      "C:\\Users\\h2oin\\Anaconda3\\envs\\nlp_env1\\lib\\site-packages\\tensorboard\\compat\\tensorflow_stub\\dtypes.py:541: FutureWarning: Passing (type, 1) or '1type' as a synonym of type is deprecated; in a future version of numpy, it will be understood as (type, (1,)) / '(1,)type'.\n",
      "  _np_qint8 = np.dtype([(\"qint8\", np.int8, 1)])\n",
      "C:\\Users\\h2oin\\Anaconda3\\envs\\nlp_env1\\lib\\site-packages\\tensorboard\\compat\\tensorflow_stub\\dtypes.py:542: FutureWarning: Passing (type, 1) or '1type' as a synonym of type is deprecated; in a future version of numpy, it will be understood as (type, (1,)) / '(1,)type'.\n",
      "  _np_quint8 = np.dtype([(\"quint8\", np.uint8, 1)])\n",
      "C:\\Users\\h2oin\\Anaconda3\\envs\\nlp_env1\\lib\\site-packages\\tensorboard\\compat\\tensorflow_stub\\dtypes.py:543: FutureWarning: Passing (type, 1) or '1type' as a synonym of type is deprecated; in a future version of numpy, it will be understood as (type, (1,)) / '(1,)type'.\n",
      "  _np_qint16 = np.dtype([(\"qint16\", np.int16, 1)])\n",
      "C:\\Users\\h2oin\\Anaconda3\\envs\\nlp_env1\\lib\\site-packages\\tensorboard\\compat\\tensorflow_stub\\dtypes.py:544: FutureWarning: Passing (type, 1) or '1type' as a synonym of type is deprecated; in a future version of numpy, it will be understood as (type, (1,)) / '(1,)type'.\n",
      "  _np_quint16 = np.dtype([(\"quint16\", np.uint16, 1)])\n",
      "C:\\Users\\h2oin\\Anaconda3\\envs\\nlp_env1\\lib\\site-packages\\tensorboard\\compat\\tensorflow_stub\\dtypes.py:545: FutureWarning: Passing (type, 1) or '1type' as a synonym of type is deprecated; in a future version of numpy, it will be understood as (type, (1,)) / '(1,)type'.\n",
      "  _np_qint32 = np.dtype([(\"qint32\", np.int32, 1)])\n",
      "C:\\Users\\h2oin\\Anaconda3\\envs\\nlp_env1\\lib\\site-packages\\tensorboard\\compat\\tensorflow_stub\\dtypes.py:550: FutureWarning: Passing (type, 1) or '1type' as a synonym of type is deprecated; in a future version of numpy, it will be understood as (type, (1,)) / '(1,)type'.\n",
      "  np_resource = np.dtype([(\"resource\", np.ubyte, 1)])\n"
     ]
    },
    {
     "name": "stdout",
     "output_type": "stream",
     "text": [
      "WARNING:tensorflow:From C:\\Users\\h2oin\\Anaconda3\\envs\\nlp_env1\\lib\\site-packages\\keras\\backend\\tensorflow_backend.py:422: The name tf.global_variables is deprecated. Please use tf.compat.v1.global_variables instead.\n",
      "\n",
      "[[0.01267976 0.01497829 0.01648094 0.01918556 0.03550761 0.04612334\n",
      "  0.10272116 0.2316486  0.33790433 0.18277045]]\n",
      "9\n",
      "8.064179816283286\n"
     ]
    }
   ],
   "source": [
    "from lstm_predictor import predict, argmax_score, weighted_sum_score\n",
    "text = '재미있다.'\n",
    "print(predict(text))\n",
    "print(argmax_score(text))\n",
    "print(weighted_sum_score(text))"
   ]
  },
  {
   "cell_type": "code",
   "execution_count": null,
   "metadata": {},
   "outputs": [],
   "source": []
  }
 ],
 "metadata": {
  "kernelspec": {
   "display_name": "nlp_env1",
   "language": "python",
   "name": "nlp_env1"
  },
  "language_info": {
   "codemirror_mode": {
    "name": "ipython",
    "version": 3
   },
   "file_extension": ".py",
   "mimetype": "text/x-python",
   "name": "python",
   "nbconvert_exporter": "python",
   "pygments_lexer": "ipython3",
   "version": "3.7.4"
  }
 },
 "nbformat": 4,
 "nbformat_minor": 2
}
