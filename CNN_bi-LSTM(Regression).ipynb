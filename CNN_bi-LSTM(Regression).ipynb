{
 "cells": [
  {
   "cell_type": "code",
   "execution_count": 1,
   "metadata": {},
   "outputs": [
    {
     "name": "stderr",
     "output_type": "stream",
     "text": [
      "C:\\Users\\h2oin\\Anaconda3\\envs\\nlp_env1\\lib\\site-packages\\tensorflow\\python\\framework\\dtypes.py:516: FutureWarning: Passing (type, 1) or '1type' as a synonym of type is deprecated; in a future version of numpy, it will be understood as (type, (1,)) / '(1,)type'.\n",
      "  _np_qint8 = np.dtype([(\"qint8\", np.int8, 1)])\n",
      "C:\\Users\\h2oin\\Anaconda3\\envs\\nlp_env1\\lib\\site-packages\\tensorflow\\python\\framework\\dtypes.py:517: FutureWarning: Passing (type, 1) or '1type' as a synonym of type is deprecated; in a future version of numpy, it will be understood as (type, (1,)) / '(1,)type'.\n",
      "  _np_quint8 = np.dtype([(\"quint8\", np.uint8, 1)])\n",
      "C:\\Users\\h2oin\\Anaconda3\\envs\\nlp_env1\\lib\\site-packages\\tensorflow\\python\\framework\\dtypes.py:518: FutureWarning: Passing (type, 1) or '1type' as a synonym of type is deprecated; in a future version of numpy, it will be understood as (type, (1,)) / '(1,)type'.\n",
      "  _np_qint16 = np.dtype([(\"qint16\", np.int16, 1)])\n",
      "C:\\Users\\h2oin\\Anaconda3\\envs\\nlp_env1\\lib\\site-packages\\tensorflow\\python\\framework\\dtypes.py:519: FutureWarning: Passing (type, 1) or '1type' as a synonym of type is deprecated; in a future version of numpy, it will be understood as (type, (1,)) / '(1,)type'.\n",
      "  _np_quint16 = np.dtype([(\"quint16\", np.uint16, 1)])\n",
      "C:\\Users\\h2oin\\Anaconda3\\envs\\nlp_env1\\lib\\site-packages\\tensorflow\\python\\framework\\dtypes.py:520: FutureWarning: Passing (type, 1) or '1type' as a synonym of type is deprecated; in a future version of numpy, it will be understood as (type, (1,)) / '(1,)type'.\n",
      "  _np_qint32 = np.dtype([(\"qint32\", np.int32, 1)])\n",
      "C:\\Users\\h2oin\\Anaconda3\\envs\\nlp_env1\\lib\\site-packages\\tensorflow\\python\\framework\\dtypes.py:525: FutureWarning: Passing (type, 1) or '1type' as a synonym of type is deprecated; in a future version of numpy, it will be understood as (type, (1,)) / '(1,)type'.\n",
      "  np_resource = np.dtype([(\"resource\", np.ubyte, 1)])\n",
      "C:\\Users\\h2oin\\Anaconda3\\envs\\nlp_env1\\lib\\site-packages\\tensorboard\\compat\\tensorflow_stub\\dtypes.py:541: FutureWarning: Passing (type, 1) or '1type' as a synonym of type is deprecated; in a future version of numpy, it will be understood as (type, (1,)) / '(1,)type'.\n",
      "  _np_qint8 = np.dtype([(\"qint8\", np.int8, 1)])\n",
      "C:\\Users\\h2oin\\Anaconda3\\envs\\nlp_env1\\lib\\site-packages\\tensorboard\\compat\\tensorflow_stub\\dtypes.py:542: FutureWarning: Passing (type, 1) or '1type' as a synonym of type is deprecated; in a future version of numpy, it will be understood as (type, (1,)) / '(1,)type'.\n",
      "  _np_quint8 = np.dtype([(\"quint8\", np.uint8, 1)])\n",
      "C:\\Users\\h2oin\\Anaconda3\\envs\\nlp_env1\\lib\\site-packages\\tensorboard\\compat\\tensorflow_stub\\dtypes.py:543: FutureWarning: Passing (type, 1) or '1type' as a synonym of type is deprecated; in a future version of numpy, it will be understood as (type, (1,)) / '(1,)type'.\n",
      "  _np_qint16 = np.dtype([(\"qint16\", np.int16, 1)])\n",
      "C:\\Users\\h2oin\\Anaconda3\\envs\\nlp_env1\\lib\\site-packages\\tensorboard\\compat\\tensorflow_stub\\dtypes.py:544: FutureWarning: Passing (type, 1) or '1type' as a synonym of type is deprecated; in a future version of numpy, it will be understood as (type, (1,)) / '(1,)type'.\n",
      "  _np_quint16 = np.dtype([(\"quint16\", np.uint16, 1)])\n",
      "C:\\Users\\h2oin\\Anaconda3\\envs\\nlp_env1\\lib\\site-packages\\tensorboard\\compat\\tensorflow_stub\\dtypes.py:545: FutureWarning: Passing (type, 1) or '1type' as a synonym of type is deprecated; in a future version of numpy, it will be understood as (type, (1,)) / '(1,)type'.\n",
      "  _np_qint32 = np.dtype([(\"qint32\", np.int32, 1)])\n",
      "C:\\Users\\h2oin\\Anaconda3\\envs\\nlp_env1\\lib\\site-packages\\tensorboard\\compat\\tensorflow_stub\\dtypes.py:550: FutureWarning: Passing (type, 1) or '1type' as a synonym of type is deprecated; in a future version of numpy, it will be understood as (type, (1,)) / '(1,)type'.\n",
      "  np_resource = np.dtype([(\"resource\", np.ubyte, 1)])\n",
      "Using TensorFlow backend.\n"
     ]
    }
   ],
   "source": [
    "import numpy as np\n",
    "import pandas as pd\n",
    "import tensorflow as tf\n",
    "import keras"
   ]
  },
  {
   "cell_type": "markdown",
   "metadata": {},
   "source": [
    "loading dataset"
   ]
  },
  {
   "cell_type": "code",
   "execution_count": 2,
   "metadata": {},
   "outputs": [],
   "source": [
    "path = './data/'\n",
    "doc = np.load(path+'word_vec.npy', allow_pickle=True)\n",
    "df = df = pd.read_csv(path+'nm_review(score_balanced).tsv', delimiter='\\t', index_col=0)"
   ]
  },
  {
   "cell_type": "code",
   "execution_count": 3,
   "metadata": {},
   "outputs": [
    {
     "name": "stdout",
     "output_type": "stream",
     "text": [
      "doc.shape: (86750,)\n",
      "df.shape: (86750, 7)\n",
      "len(doc[0]): 8\n",
      "df.columns: Index(['code', 'uid', 'datetime', 'score', 'review', 'sympathy',\n",
      "       'notsympathy'],\n",
      "      dtype='object')\n"
     ]
    }
   ],
   "source": [
    "print(f'doc.shape: {doc.shape}')\n",
    "print(f'df.shape: {df.shape}')\n",
    "print(f'len(doc[0]): {len(doc[0])}')\n",
    "print(f'df.columns: {df.columns}')"
   ]
  },
  {
   "cell_type": "markdown",
   "metadata": {},
   "source": [
    "setting random seed"
   ]
  },
  {
   "cell_type": "code",
   "execution_count": 4,
   "metadata": {},
   "outputs": [],
   "source": [
    "# 랜덤시드 설정\n",
    "import random\n",
    "seed_value = 42\n",
    "\n",
    "random.seed(seed_value)\n",
    "np.random.seed(seed_value)\n",
    "tf.set_random_seed(seed_value)"
   ]
  },
  {
   "cell_type": "markdown",
   "metadata": {},
   "source": [
    "splitting dataset"
   ]
  },
  {
   "cell_type": "code",
   "execution_count": 5,
   "metadata": {},
   "outputs": [
    {
     "name": "stdout",
     "output_type": "stream",
     "text": [
      "x_train.shape: (69400,)\n",
      "x_test.shape : (17350,)\n",
      "y_train.shape: (69400,)\n",
      "y_test.shape : (17350,)\n"
     ]
    }
   ],
   "source": [
    "from sklearn.model_selection import train_test_split\n",
    "\n",
    "# train : test = 8 : 2\n",
    "x_train, x_test, y_train, y_test = train_test_split(doc, df['score'], test_size=0.2, shuffle=True, stratify=df['score'])\n",
    "\n",
    "print(f'x_train.shape: {x_train.shape}')\n",
    "print(f'x_test.shape : {x_test.shape}')\n",
    "print(f'y_train.shape: {y_train.shape}')\n",
    "print(f'y_test.shape : {y_test.shape}')"
   ]
  },
  {
   "cell_type": "markdown",
   "metadata": {},
   "source": [
    "feature sequence processing"
   ]
  },
  {
   "cell_type": "code",
   "execution_count": 6,
   "metadata": {},
   "outputs": [],
   "source": [
    "maxlen = max([len(x) for x in doc])"
   ]
  },
  {
   "cell_type": "code",
   "execution_count": 7,
   "metadata": {},
   "outputs": [
    {
     "name": "stdout",
     "output_type": "stream",
     "text": [
      "Pad sequences (samples x time)\n",
      "x_train_seq shape: (69400, 60, 128)\n",
      "x_test_seq shape: (17350, 60, 128)\n"
     ]
    }
   ],
   "source": [
    "from keras.preprocessing import sequence\n",
    "\n",
    "print('Pad sequences (samples x time)')\n",
    "x_train_seq = sequence.pad_sequences(x_train, maxlen=maxlen, dtype='float32', padding='post')\n",
    "x_test_seq = sequence.pad_sequences(x_test, maxlen=maxlen, dtype='float32', padding='post')\n",
    "print('x_train_seq shape:', x_train_seq.shape)\n",
    "print('x_test_seq shape:', x_test_seq.shape)"
   ]
  },
  {
   "cell_type": "markdown",
   "metadata": {},
   "source": [
    "feature scaling"
   ]
  },
  {
   "cell_type": "code",
   "execution_count": 8,
   "metadata": {},
   "outputs": [],
   "source": [
    "from sklearn.preprocessing import MinMaxScaler\n",
    "\n",
    "# min-max scaler\n",
    "mms = MinMaxScaler((-1, 1))\n",
    "mms.fit([[-20.5], [20.5]])\n",
    "for idx, item in enumerate(x_train_seq):\n",
    "    x_train_seq[idx] = mms.transform(item)\n",
    "for idx, item in enumerate(x_test_seq):\n",
    "    x_test_seq[idx] = mms.transform(item)"
   ]
  },
  {
   "cell_type": "markdown",
   "metadata": {},
   "source": [
    "label encoding"
   ]
  },
  {
   "cell_type": "code",
   "execution_count": 9,
   "metadata": {},
   "outputs": [],
   "source": [
    "from sklearn.preprocessing import MinMaxScaler\n",
    "\n",
    "# min-max scaler\n",
    "mms = MinMaxScaler((1e-6, 1-(1e-6)))\n",
    "mms.fit([[1], [10]])\n",
    "y_train_mms = mms.transform(np.array(y_train).reshape(-1, 1))\n",
    "y_test_mms = mms.transform(np.array(y_test).reshape(-1, 1))\n",
    "# 복구할땐 mms.inverse_transform(y_test_mms)[0]"
   ]
  },
  {
   "cell_type": "markdown",
   "metadata": {},
   "source": [
    "RNN modeling"
   ]
  },
  {
   "cell_type": "code",
   "execution_count": 10,
   "metadata": {},
   "outputs": [],
   "source": [
    "from __future__ import print_function\n",
    "\n",
    "from keras import layers\n",
    "from keras import models\n",
    "from keras import regularizers\n",
    "from keras.layers import LSTM, Bidirectional, Dense, Dropout"
   ]
  },
  {
   "cell_type": "code",
   "execution_count": 11,
   "metadata": {},
   "outputs": [],
   "source": [
    "def conv_block(x, filter_nums, filter_sizes):\n",
    "    \"\"\"A convolution block\"\"\"\n",
    "    conv_blocks = []\n",
    "\n",
    "    for fn, fs in zip(filter_nums, filter_sizes):\n",
    "        conv = layers.Conv1D(filters=fn,\n",
    "                             kernel_size=fs,\n",
    "                             padding='same',\n",
    "                             activation='relu',\n",
    "                             strides=1)(x)\n",
    "        #conv = layers.GlobalMaxPooling1D()(conv)\n",
    "        conv_blocks.append(conv)\n",
    "\n",
    "    return conv_blocks"
   ]
  },
  {
   "cell_type": "code",
   "execution_count": 42,
   "metadata": {},
   "outputs": [],
   "source": [
    "def create_model():\n",
    "    inputs = layers.Input(shape=(60, 128))\n",
    "    \n",
    "    # CNN\n",
    "    blocks = conv_block(inputs, \n",
    "                        filter_nums=(64, 64, 64, 64), \n",
    "                        filter_sizes=(1, 2, 3, 4))\n",
    "    cnn_outputs = layers.Concatenate()(blocks)\n",
    "    cnn_outputs = Dropout(0.3)(cnn_outputs)\n",
    "    \n",
    "    # Bi-LSTM\n",
    "    lstm_outputs = Bidirectional(\n",
    "        LSTM(64,\n",
    "             dropout=0.3,\n",
    "             recurrent_activation='relu',\n",
    "             recurrent_initializer='glorot_uniform'))(cnn_outputs)\n",
    "    \n",
    "    # outputs\n",
    "    outputs = Dense(128, activation='relu', kernel_initializer='glorot_uniform')(lstm_outputs)\n",
    "    outputs = Dropout(0.2, seed=42)(outputs)\n",
    "    outputs = Dense(1, kernel_initializer='glorot_uniform',\n",
    "                    kernel_regularizer=regularizers.l2(0.04))(outputs)\n",
    "        \n",
    "    model = models.Model(inputs, outputs)\n",
    "\n",
    "    return model\n"
   ]
  },
  {
   "cell_type": "code",
   "execution_count": 43,
   "metadata": {},
   "outputs": [
    {
     "name": "stdout",
     "output_type": "stream",
     "text": [
      "Model: \"model_3\"\n",
      "__________________________________________________________________________________________________\n",
      "Layer (type)                    Output Shape         Param #     Connected to                     \n",
      "==================================================================================================\n",
      "input_3 (InputLayer)            (None, 60, 128)      0                                            \n",
      "__________________________________________________________________________________________________\n",
      "conv1d_9 (Conv1D)               (None, 60, 64)       8256        input_3[0][0]                    \n",
      "__________________________________________________________________________________________________\n",
      "conv1d_10 (Conv1D)              (None, 60, 64)       16448       input_3[0][0]                    \n",
      "__________________________________________________________________________________________________\n",
      "conv1d_11 (Conv1D)              (None, 60, 64)       24640       input_3[0][0]                    \n",
      "__________________________________________________________________________________________________\n",
      "conv1d_12 (Conv1D)              (None, 60, 64)       32832       input_3[0][0]                    \n",
      "__________________________________________________________________________________________________\n",
      "concatenate_3 (Concatenate)     (None, 60, 256)      0           conv1d_9[0][0]                   \n",
      "                                                                 conv1d_10[0][0]                  \n",
      "                                                                 conv1d_11[0][0]                  \n",
      "                                                                 conv1d_12[0][0]                  \n",
      "__________________________________________________________________________________________________\n",
      "dropout_5 (Dropout)             (None, 60, 256)      0           concatenate_3[0][0]              \n",
      "__________________________________________________________________________________________________\n",
      "bidirectional_3 (Bidirectional) (None, 128)          164352      dropout_5[0][0]                  \n",
      "__________________________________________________________________________________________________\n",
      "dense_5 (Dense)                 (None, 128)          16512       bidirectional_3[0][0]            \n",
      "__________________________________________________________________________________________________\n",
      "dropout_6 (Dropout)             (None, 128)          0           dense_5[0][0]                    \n",
      "__________________________________________________________________________________________________\n",
      "dense_6 (Dense)                 (None, 1)            129         dropout_6[0][0]                  \n",
      "==================================================================================================\n",
      "Total params: 263,169\n",
      "Trainable params: 263,169\n",
      "Non-trainable params: 0\n",
      "__________________________________________________________________________________________________\n"
     ]
    }
   ],
   "source": [
    "model = create_model()\n",
    "model.summary()"
   ]
  },
  {
   "cell_type": "code",
   "execution_count": 44,
   "metadata": {},
   "outputs": [],
   "source": [
    "# losses and optimizer\n",
    "from keras import backend as K\n",
    "from keras import optimizers\n",
    "\n",
    "def custom_loss(y_true, y_pred):\n",
    "    return K.sum(K.square(y_true - y_pred))\n",
    "\n",
    "def custom_mae(y_true, y_pred):\n",
    "    loss = tf.keras.losses.MAE(\n",
    "        K.sum(y_true*tf.constant(list(range(1, 11)), dtype=tf.float32), axis=1),\n",
    "        K.sum(y_pred*tf.constant(list(range(1, 11)), dtype=tf.float32), axis=1)\n",
    "    )\n",
    "    return loss\n",
    "\n",
    "Adam = optimizers.Adam(learning_rate=0.001, clipnorm=0.5)\n",
    "RMSprop = optimizers.RMSprop(learning_rate=0.001, rho=0.9, clipnorm=0.5)"
   ]
  },
  {
   "cell_type": "code",
   "execution_count": 45,
   "metadata": {},
   "outputs": [],
   "source": [
    "# model compile\n",
    "model.compile(optimizer=RMSprop, loss='mse', metrics=['mae'])"
   ]
  },
  {
   "cell_type": "code",
   "execution_count": 46,
   "metadata": {},
   "outputs": [],
   "source": [
    "# early stopping\n",
    "es = keras.callbacks.EarlyStopping(monitor='val_loss', mode='min', verbose=1, patience=30)"
   ]
  },
  {
   "cell_type": "code",
   "execution_count": 47,
   "metadata": {},
   "outputs": [],
   "source": [
    "# checkpoint\n",
    "cp = keras.callbacks.ModelCheckpoint(\n",
    "    './model/ckpt/cnn_bilstm_reg.ckpt', monitor='val_loss', save_best_only=True, save_weights_only=True)"
   ]
  },
  {
   "cell_type": "code",
   "execution_count": 48,
   "metadata": {},
   "outputs": [
    {
     "name": "stdout",
     "output_type": "stream",
     "text": [
      "Train on 55520 samples, validate on 13880 samples\n",
      "Epoch 1/1000\n",
      "55520/55520 [==============================] - 35s 623us/step - loss: 0.1090 - mae: 0.2373 - val_loss: 0.0709 - val_mae: 0.2064\n",
      "Epoch 2/1000\n",
      "55520/55520 [==============================] - 35s 624us/step - loss: 0.0725 - mae: 0.2130 - val_loss: 0.0648 - val_mae: 0.2022\n",
      "Epoch 3/1000\n",
      "55520/55520 [==============================] - 43s 768us/step - loss: 0.0675 - mae: 0.2066 - val_loss: 0.0636 - val_mae: 0.1962\n",
      "Epoch 4/1000\n",
      "55520/55520 [==============================] - 60s 1ms/step - loss: 0.0647 - mae: 0.2018 - val_loss: 0.0614 - val_mae: 0.1972\n",
      "Epoch 5/1000\n",
      "55520/55520 [==============================] - 45s 808us/step - loss: 0.0630 - mae: 0.1986 - val_loss: 0.0588 - val_mae: 0.1922\n",
      "Epoch 6/1000\n",
      "55520/55520 [==============================] - 34s 613us/step - loss: 0.0614 - mae: 0.1960 - val_loss: 0.0587 - val_mae: 0.1864\n",
      "Epoch 7/1000\n",
      "55520/55520 [==============================] - 33s 592us/step - loss: 0.0597 - mae: 0.1927 - val_loss: 0.0585 - val_mae: 0.1932\n",
      "Epoch 8/1000\n",
      "55520/55520 [==============================] - 33s 590us/step - loss: 0.0586 - mae: 0.1902 - val_loss: 0.0574 - val_mae: 0.1904\n",
      "Epoch 9/1000\n",
      "55520/55520 [==============================] - 34s 615us/step - loss: 0.0578 - mae: 0.1891 - val_loss: 0.0573 - val_mae: 0.1840\n",
      "Epoch 10/1000\n",
      "55520/55520 [==============================] - 40s 715us/step - loss: 0.0568 - mae: 0.1871 - val_loss: 0.0583 - val_mae: 0.1872\n",
      "Epoch 11/1000\n",
      "55520/55520 [==============================] - 45s 805us/step - loss: 0.0563 - mae: 0.1863 - val_loss: 0.0573 - val_mae: 0.1835\n",
      "Epoch 12/1000\n",
      "55520/55520 [==============================] - 43s 783us/step - loss: 0.0558 - mae: 0.1853 - val_loss: 0.0555 - val_mae: 0.1818\n",
      "Epoch 13/1000\n",
      "55520/55520 [==============================] - 35s 637us/step - loss: 0.0552 - mae: 0.1841 - val_loss: 0.0552 - val_mae: 0.1836\n",
      "Epoch 14/1000\n",
      "55520/55520 [==============================] - 33s 586us/step - loss: 0.0546 - mae: 0.1828 - val_loss: 0.0554 - val_mae: 0.1827\n",
      "Epoch 15/1000\n",
      "55520/55520 [==============================] - 32s 577us/step - loss: 0.0538 - mae: 0.1816 - val_loss: 0.0553 - val_mae: 0.1835\n",
      "Epoch 16/1000\n",
      "55520/55520 [==============================] - 34s 611us/step - loss: 0.0533 - mae: 0.1805 - val_loss: 0.0591 - val_mae: 0.1951\n",
      "Epoch 17/1000\n",
      "55520/55520 [==============================] - 35s 633us/step - loss: 0.0526 - mae: 0.1792 - val_loss: 0.0554 - val_mae: 0.1816\n",
      "Epoch 18/1000\n",
      "55520/55520 [==============================] - 42s 754us/step - loss: 0.0522 - mae: 0.1786 - val_loss: 0.0549 - val_mae: 0.1820\n",
      "Epoch 19/1000\n",
      "55520/55520 [==============================] - 44s 788us/step - loss: 0.0517 - mae: 0.1775 - val_loss: 0.0556 - val_mae: 0.1825\n",
      "Epoch 20/1000\n",
      "55520/55520 [==============================] - 39s 706us/step - loss: 0.0512 - mae: 0.1767 - val_loss: 0.0556 - val_mae: 0.1798\n",
      "Epoch 21/1000\n",
      "55520/55520 [==============================] - 34s 610us/step - loss: 0.0506 - mae: 0.1753 - val_loss: 0.0550 - val_mae: 0.1773\n",
      "Epoch 22/1000\n",
      "55520/55520 [==============================] - 32s 577us/step - loss: 0.0501 - mae: 0.1743 - val_loss: 0.0551 - val_mae: 0.1781\n",
      "Epoch 23/1000\n",
      "55520/55520 [==============================] - 32s 573us/step - loss: 0.0497 - mae: 0.1736 - val_loss: 0.0547 - val_mae: 0.1774\n",
      "Epoch 24/1000\n",
      "55520/55520 [==============================] - 33s 589us/step - loss: 0.0495 - mae: 0.1731 - val_loss: 0.0544 - val_mae: 0.1802\n",
      "Epoch 25/1000\n",
      "55520/55520 [==============================] - 35s 628us/step - loss: 0.0491 - mae: 0.1726 - val_loss: 0.0543 - val_mae: 0.1848\n",
      "Epoch 26/1000\n",
      "55520/55520 [==============================] - 40s 725us/step - loss: 0.0486 - mae: 0.1712 - val_loss: 0.0542 - val_mae: 0.1800\n",
      "Epoch 27/1000\n",
      "55520/55520 [==============================] - 39s 698us/step - loss: 0.0483 - mae: 0.1706 - val_loss: 0.0550 - val_mae: 0.1780\n",
      "Epoch 28/1000\n",
      "55520/55520 [==============================] - 37s 673us/step - loss: 0.0479 - mae: 0.1703 - val_loss: 0.0542 - val_mae: 0.1833\n",
      "Epoch 29/1000\n",
      "55520/55520 [==============================] - 34s 611us/step - loss: 0.0475 - mae: 0.1693 - val_loss: 0.0534 - val_mae: 0.1794\n",
      "Epoch 30/1000\n",
      "55520/55520 [==============================] - 33s 588us/step - loss: 0.0474 - mae: 0.1691 - val_loss: 0.0550 - val_mae: 0.1813\n",
      "Epoch 31/1000\n",
      "55520/55520 [==============================] - 32s 580us/step - loss: 0.0469 - mae: 0.1682 - val_loss: 0.0550 - val_mae: 0.1778\n",
      "Epoch 32/1000\n",
      "55520/55520 [==============================] - 35s 628us/step - loss: 0.0463 - mae: 0.1670 - val_loss: 0.0541 - val_mae: 0.1767\n",
      "Epoch 33/1000\n",
      "55520/55520 [==============================] - 34s 613us/step - loss: 0.0462 - mae: 0.1668 - val_loss: 0.0535 - val_mae: 0.1766\n",
      "Epoch 34/1000\n",
      "55520/55520 [==============================] - 36s 648us/step - loss: 0.0458 - mae: 0.1660 - val_loss: 0.0543 - val_mae: 0.1758\n",
      "Epoch 35/1000\n",
      "55520/55520 [==============================] - 40s 723us/step - loss: 0.0454 - mae: 0.1652 - val_loss: 0.0547 - val_mae: 0.1805\n",
      "Epoch 36/1000\n",
      "55520/55520 [==============================] - 38s 681us/step - loss: 0.0453 - mae: 0.1653 - val_loss: 0.0540 - val_mae: 0.1772\n",
      "Epoch 37/1000\n",
      "55520/55520 [==============================] - 35s 636us/step - loss: 0.0451 - mae: 0.1646 - val_loss: 0.0554 - val_mae: 0.1882\n",
      "Epoch 38/1000\n",
      "55520/55520 [==============================] - 33s 591us/step - loss: 0.0450 - mae: 0.1646 - val_loss: 0.0554 - val_mae: 0.1808\n",
      "Epoch 39/1000\n",
      "55520/55520 [==============================] - 32s 576us/step - loss: 0.0444 - mae: 0.1634 - val_loss: 0.0540 - val_mae: 0.1780\n",
      "Epoch 40/1000\n",
      "55520/55520 [==============================] - 32s 575us/step - loss: 0.0441 - mae: 0.1628 - val_loss: 0.0548 - val_mae: 0.1786\n",
      "Epoch 41/1000\n",
      "55520/55520 [==============================] - 33s 599us/step - loss: 0.0440 - mae: 0.1624 - val_loss: 0.0541 - val_mae: 0.1791\n",
      "Epoch 42/1000\n",
      "55520/55520 [==============================] - 35s 626us/step - loss: 0.0437 - mae: 0.1620 - val_loss: 0.0535 - val_mae: 0.1771\n",
      "Epoch 43/1000\n",
      "55520/55520 [==============================] - 38s 687us/step - loss: 0.0433 - mae: 0.1612 - val_loss: 0.0547 - val_mae: 0.1795\n",
      "Epoch 44/1000\n",
      "55520/55520 [==============================] - 39s 708us/step - loss: 0.0429 - mae: 0.1605 - val_loss: 0.0550 - val_mae: 0.1791\n",
      "Epoch 45/1000\n",
      "55520/55520 [==============================] - 37s 658us/step - loss: 0.0428 - mae: 0.1603 - val_loss: 0.0541 - val_mae: 0.1804\n",
      "Epoch 46/1000\n",
      "55520/55520 [==============================] - 34s 609us/step - loss: 0.0422 - mae: 0.1593 - val_loss: 0.0549 - val_mae: 0.1810\n",
      "Epoch 47/1000\n",
      "55520/55520 [==============================] - 33s 586us/step - loss: 0.0420 - mae: 0.1588 - val_loss: 0.0553 - val_mae: 0.1762\n",
      "Epoch 48/1000\n",
      "55520/55520 [==============================] - 32s 583us/step - loss: 0.0419 - mae: 0.1583 - val_loss: 0.0563 - val_mae: 0.1780\n",
      "Epoch 49/1000\n",
      "55520/55520 [==============================] - 33s 601us/step - loss: 0.0419 - mae: 0.1585 - val_loss: 0.0545 - val_mae: 0.1778\n",
      "Epoch 50/1000\n",
      "55520/55520 [==============================] - 35s 636us/step - loss: 0.0414 - mae: 0.1575 - val_loss: 0.0551 - val_mae: 0.1791\n",
      "Epoch 51/1000\n",
      "55520/55520 [==============================] - 37s 666us/step - loss: 0.0413 - mae: 0.1575 - val_loss: 0.0551 - val_mae: 0.1771\n",
      "Epoch 52/1000\n",
      "55520/55520 [==============================] - 38s 679us/step - loss: 0.0411 - mae: 0.1573 - val_loss: 0.0568 - val_mae: 0.1771\n",
      "Epoch 53/1000\n",
      "55520/55520 [==============================] - 40s 716us/step - loss: 0.0405 - mae: 0.1555 - val_loss: 0.0542 - val_mae: 0.1790\n",
      "Epoch 54/1000\n",
      "55520/55520 [==============================] - 36s 641us/step - loss: 0.0402 - mae: 0.1553 - val_loss: 0.0546 - val_mae: 0.1798\n",
      "Epoch 55/1000\n",
      "55520/55520 [==============================] - 33s 593us/step - loss: 0.0405 - mae: 0.1560 - val_loss: 0.0552 - val_mae: 0.1795\n",
      "Epoch 56/1000\n",
      "55520/55520 [==============================] - 32s 583us/step - loss: 0.0400 - mae: 0.1552 - val_loss: 0.0552 - val_mae: 0.1794\n",
      "Epoch 57/1000\n",
      "55520/55520 [==============================] - 33s 590us/step - loss: 0.0400 - mae: 0.1546 - val_loss: 0.0552 - val_mae: 0.1780\n",
      "Epoch 58/1000\n"
     ]
    },
    {
     "name": "stdout",
     "output_type": "stream",
     "text": [
      "55520/55520 [==============================] - 33s 591us/step - loss: 0.0397 - mae: 0.1541 - val_loss: 0.0553 - val_mae: 0.1767\n",
      "Epoch 59/1000\n",
      "55520/55520 [==============================] - 35s 627us/step - loss: 0.0396 - mae: 0.1539 - val_loss: 0.0559 - val_mae: 0.1802\n",
      "Epoch 00059: early stopping\n"
     ]
    }
   ],
   "source": [
    "# learn\n",
    "history = model.fit(x_train_seq, y_train_mms, batch_size=256, epochs=1000, validation_split=0.2, shuffle=True,\n",
    "                    callbacks=[es, cp])"
   ]
  },
  {
   "cell_type": "code",
   "execution_count": 52,
   "metadata": {},
   "outputs": [],
   "source": [
    "# checkpoint load\n",
    "model.load_weights('./model/ckpt/cnn_bilstm_reg.ckpt')"
   ]
  },
  {
   "cell_type": "code",
   "execution_count": 53,
   "metadata": {},
   "outputs": [
    {
     "name": "stdout",
     "output_type": "stream",
     "text": [
      "17350/17350 [==============================] - 33s 2ms/step\n",
      "loss: 0.054766 - mae: 0.181677\n"
     ]
    }
   ],
   "source": [
    "# 모델 평가\n",
    "results = model.evaluate(x_test_seq, y_test_mms)\n",
    "print('loss: {:.6f} - mae: {:.6f}'.format(*results))"
   ]
  },
  {
   "cell_type": "code",
   "execution_count": 50,
   "metadata": {},
   "outputs": [
    {
     "data": {
      "image/png": "[encoded data removed]",
      "text/plain": [
       "<Figure size 432x288 with 1 Axes>"
      ]
     },
     "metadata": {
      "needs_background": "light"
     },
     "output_type": "display_data"
    }
   ],
   "source": [
    "import matplotlib.pyplot as plt\n",
    "for name, value in history.history.items():\n",
    "    plt.plot(value, label=name)\n",
    "\n",
    "plt.legend()\n",
    "plt.show()"
   ]
  },
  {
   "cell_type": "code",
   "execution_count": 51,
   "metadata": {},
   "outputs": [
    {
     "data": {
      "image/png": "[encoded data removed]",
      "text/plain": [
       "<Figure size 432x288 with 1 Axes>"
      ]
     },
     "metadata": {
      "needs_background": "light"
     },
     "output_type": "display_data"
    }
   ],
   "source": [
    "import matplotlib.pyplot as plt\n",
    "plt.plot(history.history['loss'], label='loss')\n",
    "plt.plot(history.history['val_loss'], label='val_loss')\n",
    "plt.legend()\n",
    "plt.show()"
   ]
  },
  {
   "cell_type": "markdown",
   "metadata": {},
   "source": [
    "predicting"
   ]
  },
  {
   "cell_type": "code",
   "execution_count": 55,
   "metadata": {
    "scrolled": false
   },
   "outputs": [],
   "source": [
    "import numpy as np\n",
    "from gensim.models import FastText\n",
    "\n",
    "ft_model = FastText.load('./model/fasttext_model')"
   ]
  },
  {
   "cell_type": "code",
   "execution_count": 56,
   "metadata": {},
   "outputs": [],
   "source": [
    "from hg_encoder import encode\n",
    "\n",
    "def get_vector(query):\n",
    "    query_ = encode(query)\n",
    "    wv = ft_model.wv.get_vector(query_)\n",
    "    return wv"
   ]
  },
  {
   "cell_type": "code",
   "execution_count": 69,
   "metadata": {},
   "outputs": [],
   "source": [
    "from keras.preprocessing import sequence\n",
    "from sklearn.preprocessing import MinMaxScaler\n",
    "\n",
    "# min-max scaler\n",
    "mms = MinMaxScaler((-1, 1))\n",
    "mms.fit([[-20.5], [20.5]])\n",
    "\n",
    "text = '인생작 중 하나입니다.'\n",
    "wvs = np.array([get_vector(t) for t in text.split(' ')])\n",
    "wvs = mms.transform(wvs)\n",
    "wvs_seq = sequence.pad_sequences(wvs.reshape(1, wvs.shape[0], -1), maxlen=60, dtype='float32', padding='post')"
   ]
  },
  {
   "cell_type": "code",
   "execution_count": 70,
   "metadata": {},
   "outputs": [
    {
     "name": "stdout",
     "output_type": "stream",
     "text": [
      "predict score: [[6.378504]]\n"
     ]
    }
   ],
   "source": [
    "# predict\n",
    "mms = MinMaxScaler((1e-6, 1-(1e-6)))\n",
    "mms.fit([[1], [10]])\n",
    "print('predict score: {}'.format(mms.inverse_transform(model.predict(wvs_seq))))"
   ]
  },
  {
   "cell_type": "markdown",
   "metadata": {},
   "source": [
    "saving & loading model"
   ]
  },
  {
   "cell_type": "code",
   "execution_count": 54,
   "metadata": {},
   "outputs": [],
   "source": [
    "# save model\n",
    "model.save_weights('./model/cnn_bilstm_reg')"
   ]
  },
  {
   "cell_type": "code",
   "execution_count": 92,
   "metadata": {},
   "outputs": [],
   "source": [
    "# load model\n",
    "model.load_weights('./model/cnn_bilstm_reg')"
   ]
  },
  {
   "cell_type": "markdown",
   "metadata": {},
   "source": [
    "평점 예측기 모듈화"
   ]
  },
  {
   "cell_type": "code",
   "execution_count": 93,
   "metadata": {},
   "outputs": [
    {
     "ename": "ValueError",
     "evalue": "Error when checking input: expected sequential_1_input to have shape (60, 100) but got array with shape (60, 128)",
     "output_type": "error",
     "traceback": [
      "\u001b[1;31m---------------------------------------------------------------------------\u001b[0m",
      "\u001b[1;31mValueError\u001b[0m                                Traceback (most recent call last)",
      "\u001b[1;32m<ipython-input-93-2bcda2ffefd3>\u001b[0m in \u001b[0;36m<module>\u001b[1;34m\u001b[0m\n\u001b[0;32m      1\u001b[0m \u001b[1;32mfrom\u001b[0m \u001b[0mlstm_predictor\u001b[0m \u001b[1;32mimport\u001b[0m \u001b[0mpredict\u001b[0m\u001b[1;33m,\u001b[0m \u001b[0margmax_score\u001b[0m\u001b[1;33m,\u001b[0m \u001b[0mweighted_sum_score\u001b[0m\u001b[1;33m\u001b[0m\u001b[1;33m\u001b[0m\u001b[0m\n\u001b[0;32m      2\u001b[0m \u001b[0mtext\u001b[0m \u001b[1;33m=\u001b[0m \u001b[1;34m'인생작 중 하나입니다.'\u001b[0m\u001b[1;33m\u001b[0m\u001b[1;33m\u001b[0m\u001b[0m\n\u001b[1;32m----> 3\u001b[1;33m \u001b[0mprint\u001b[0m\u001b[1;33m(\u001b[0m\u001b[0mpredict\u001b[0m\u001b[1;33m(\u001b[0m\u001b[0mtext\u001b[0m\u001b[1;33m)\u001b[0m\u001b[1;33m)\u001b[0m\u001b[1;33m\u001b[0m\u001b[1;33m\u001b[0m\u001b[0m\n\u001b[0m\u001b[0;32m      4\u001b[0m \u001b[0mprint\u001b[0m\u001b[1;33m(\u001b[0m\u001b[0margmax_score\u001b[0m\u001b[1;33m(\u001b[0m\u001b[0mtext\u001b[0m\u001b[1;33m)\u001b[0m\u001b[1;33m)\u001b[0m\u001b[1;33m\u001b[0m\u001b[1;33m\u001b[0m\u001b[0m\n\u001b[0;32m      5\u001b[0m \u001b[0mprint\u001b[0m\u001b[1;33m(\u001b[0m\u001b[0mweighted_sum_score\u001b[0m\u001b[1;33m(\u001b[0m\u001b[0mtext\u001b[0m\u001b[1;33m)\u001b[0m\u001b[1;33m)\u001b[0m\u001b[1;33m\u001b[0m\u001b[1;33m\u001b[0m\u001b[0m\n",
      "\u001b[1;32mc:\\GitProject\\ai_school\\proj\\lstm_predictor.py\u001b[0m in \u001b[0;36mpredict\u001b[1;34m(text)\u001b[0m\n\u001b[0;32m     10\u001b[0m     \u001b[0mwvs\u001b[0m \u001b[1;33m=\u001b[0m \u001b[0mnp\u001b[0m\u001b[1;33m.\u001b[0m\u001b[0marray\u001b[0m\u001b[1;33m(\u001b[0m\u001b[1;33m[\u001b[0m\u001b[0mft_model\u001b[0m\u001b[1;33m.\u001b[0m\u001b[0mwv\u001b[0m\u001b[1;33m.\u001b[0m\u001b[0mget_vector\u001b[0m\u001b[1;33m(\u001b[0m\u001b[0mencode\u001b[0m\u001b[1;33m(\u001b[0m\u001b[0mt\u001b[0m\u001b[1;33m)\u001b[0m\u001b[1;33m)\u001b[0m \u001b[1;32mfor\u001b[0m \u001b[0mt\u001b[0m \u001b[1;32min\u001b[0m \u001b[0mtext\u001b[0m\u001b[1;33m.\u001b[0m\u001b[0msplit\u001b[0m\u001b[1;33m(\u001b[0m\u001b[1;34m' '\u001b[0m\u001b[1;33m)\u001b[0m\u001b[1;33m]\u001b[0m\u001b[1;33m)\u001b[0m\u001b[1;33m\u001b[0m\u001b[1;33m\u001b[0m\u001b[0m\n\u001b[0;32m     11\u001b[0m     \u001b[0mwvs_seq\u001b[0m \u001b[1;33m=\u001b[0m \u001b[0msequence\u001b[0m\u001b[1;33m.\u001b[0m\u001b[0mpad_sequences\u001b[0m\u001b[1;33m(\u001b[0m\u001b[0mwvs\u001b[0m\u001b[1;33m.\u001b[0m\u001b[0mreshape\u001b[0m\u001b[1;33m(\u001b[0m\u001b[1;36m1\u001b[0m\u001b[1;33m,\u001b[0m \u001b[0mwvs\u001b[0m\u001b[1;33m.\u001b[0m\u001b[0mshape\u001b[0m\u001b[1;33m[\u001b[0m\u001b[1;36m0\u001b[0m\u001b[1;33m]\u001b[0m\u001b[1;33m,\u001b[0m \u001b[1;33m-\u001b[0m\u001b[1;36m1\u001b[0m\u001b[1;33m)\u001b[0m\u001b[1;33m,\u001b[0m \u001b[0mmaxlen\u001b[0m\u001b[1;33m=\u001b[0m\u001b[1;36m60\u001b[0m\u001b[1;33m,\u001b[0m \u001b[0mdtype\u001b[0m\u001b[1;33m=\u001b[0m\u001b[1;34m'float32'\u001b[0m\u001b[1;33m)\u001b[0m\u001b[1;33m\u001b[0m\u001b[1;33m\u001b[0m\u001b[0m\n\u001b[1;32m---> 12\u001b[1;33m     \u001b[1;32mreturn\u001b[0m \u001b[0mmodel\u001b[0m\u001b[1;33m.\u001b[0m\u001b[0mpredict\u001b[0m\u001b[1;33m(\u001b[0m\u001b[0mwvs_seq\u001b[0m\u001b[1;33m)\u001b[0m\u001b[1;33m\u001b[0m\u001b[1;33m\u001b[0m\u001b[0m\n\u001b[0m\u001b[0;32m     13\u001b[0m \u001b[1;33m\u001b[0m\u001b[0m\n\u001b[0;32m     14\u001b[0m \u001b[1;32mdef\u001b[0m \u001b[0margmax_score\u001b[0m\u001b[1;33m(\u001b[0m\u001b[0mtext\u001b[0m\u001b[1;33m)\u001b[0m\u001b[1;33m:\u001b[0m\u001b[1;33m\u001b[0m\u001b[1;33m\u001b[0m\u001b[0m\n",
      "\u001b[1;32m~Anaconda3\\envs\\nlp_env1\\lib\\site-packages\\keras\\engine\\training.py\u001b[0m in \u001b[0;36mpredict\u001b[1;34m(self, x, batch_size, verbose, steps, callbacks, max_queue_size, workers, use_multiprocessing)\u001b[0m\n\u001b[0;32m   1439\u001b[0m \u001b[1;33m\u001b[0m\u001b[0m\n\u001b[0;32m   1440\u001b[0m         \u001b[1;31m# Case 2: Symbolic tensors or Numpy array-like.\u001b[0m\u001b[1;33m\u001b[0m\u001b[1;33m\u001b[0m\u001b[1;33m\u001b[0m\u001b[0m\n\u001b[1;32m-> 1441\u001b[1;33m         \u001b[0mx\u001b[0m\u001b[1;33m,\u001b[0m \u001b[0m_\u001b[0m\u001b[1;33m,\u001b[0m \u001b[0m_\u001b[0m \u001b[1;33m=\u001b[0m \u001b[0mself\u001b[0m\u001b[1;33m.\u001b[0m\u001b[0m_standardize_user_data\u001b[0m\u001b[1;33m(\u001b[0m\u001b[0mx\u001b[0m\u001b[1;33m)\u001b[0m\u001b[1;33m\u001b[0m\u001b[1;33m\u001b[0m\u001b[0m\n\u001b[0m\u001b[0;32m   1442\u001b[0m         \u001b[1;32mif\u001b[0m \u001b[0mself\u001b[0m\u001b[1;33m.\u001b[0m\u001b[0mstateful\u001b[0m\u001b[1;33m:\u001b[0m\u001b[1;33m\u001b[0m\u001b[1;33m\u001b[0m\u001b[0m\n\u001b[0;32m   1443\u001b[0m             \u001b[1;32mif\u001b[0m \u001b[0mx\u001b[0m\u001b[1;33m[\u001b[0m\u001b[1;36m0\u001b[0m\u001b[1;33m]\u001b[0m\u001b[1;33m.\u001b[0m\u001b[0mshape\u001b[0m\u001b[1;33m[\u001b[0m\u001b[1;36m0\u001b[0m\u001b[1;33m]\u001b[0m \u001b[1;33m>\u001b[0m \u001b[0mbatch_size\u001b[0m \u001b[1;32mand\u001b[0m \u001b[0mx\u001b[0m\u001b[1;33m[\u001b[0m\u001b[1;36m0\u001b[0m\u001b[1;33m]\u001b[0m\u001b[1;33m.\u001b[0m\u001b[0mshape\u001b[0m\u001b[1;33m[\u001b[0m\u001b[1;36m0\u001b[0m\u001b[1;33m]\u001b[0m \u001b[1;33m%\u001b[0m \u001b[0mbatch_size\u001b[0m \u001b[1;33m!=\u001b[0m \u001b[1;36m0\u001b[0m\u001b[1;33m:\u001b[0m\u001b[1;33m\u001b[0m\u001b[1;33m\u001b[0m\u001b[0m\n",
      "\u001b[1;32m~Anaconda3\\envs\\nlp_env1\\lib\\site-packages\\keras\\engine\\training.py\u001b[0m in \u001b[0;36m_standardize_user_data\u001b[1;34m(self, x, y, sample_weight, class_weight, check_array_lengths, batch_size)\u001b[0m\n\u001b[0;32m    577\u001b[0m             \u001b[0mfeed_input_shapes\u001b[0m\u001b[1;33m,\u001b[0m\u001b[1;33m\u001b[0m\u001b[1;33m\u001b[0m\u001b[0m\n\u001b[0;32m    578\u001b[0m             \u001b[0mcheck_batch_axis\u001b[0m\u001b[1;33m=\u001b[0m\u001b[1;32mFalse\u001b[0m\u001b[1;33m,\u001b[0m  \u001b[1;31m# Don't enforce the batch size.\u001b[0m\u001b[1;33m\u001b[0m\u001b[1;33m\u001b[0m\u001b[0m\n\u001b[1;32m--> 579\u001b[1;33m             exception_prefix='input')\n\u001b[0m\u001b[0;32m    580\u001b[0m \u001b[1;33m\u001b[0m\u001b[0m\n\u001b[0;32m    581\u001b[0m         \u001b[1;32mif\u001b[0m \u001b[0my\u001b[0m \u001b[1;32mis\u001b[0m \u001b[1;32mnot\u001b[0m \u001b[1;32mNone\u001b[0m\u001b[1;33m:\u001b[0m\u001b[1;33m\u001b[0m\u001b[1;33m\u001b[0m\u001b[0m\n",
      "\u001b[1;32m~Anaconda3\\envs\\nlp_env1\\lib\\site-packages\\keras\\engine\\training_utils.py\u001b[0m in \u001b[0;36mstandardize_input_data\u001b[1;34m(data, names, shapes, check_batch_axis, exception_prefix)\u001b[0m\n\u001b[0;32m    143\u001b[0m                             \u001b[1;34m': expected '\u001b[0m \u001b[1;33m+\u001b[0m \u001b[0mnames\u001b[0m\u001b[1;33m[\u001b[0m\u001b[0mi\u001b[0m\u001b[1;33m]\u001b[0m \u001b[1;33m+\u001b[0m \u001b[1;34m' to have shape '\u001b[0m \u001b[1;33m+\u001b[0m\u001b[1;33m\u001b[0m\u001b[1;33m\u001b[0m\u001b[0m\n\u001b[0;32m    144\u001b[0m                             \u001b[0mstr\u001b[0m\u001b[1;33m(\u001b[0m\u001b[0mshape\u001b[0m\u001b[1;33m)\u001b[0m \u001b[1;33m+\u001b[0m \u001b[1;34m' but got array with shape '\u001b[0m \u001b[1;33m+\u001b[0m\u001b[1;33m\u001b[0m\u001b[1;33m\u001b[0m\u001b[0m\n\u001b[1;32m--> 145\u001b[1;33m                             str(data_shape))\n\u001b[0m\u001b[0;32m    146\u001b[0m     \u001b[1;32mreturn\u001b[0m \u001b[0mdata\u001b[0m\u001b[1;33m\u001b[0m\u001b[1;33m\u001b[0m\u001b[0m\n\u001b[0;32m    147\u001b[0m \u001b[1;33m\u001b[0m\u001b[0m\n",
      "\u001b[1;31mValueError\u001b[0m: Error when checking input: expected sequential_1_input to have shape (60, 100) but got array with shape (60, 128)"
     ]
    }
   ],
   "source": [
    "from lstm_predictor import predict, argmax_score, weighted_sum_score\n",
    "text = '인생작 중 하나입니다.'\n",
    "print(predict(text))\n",
    "print(argmax_score(text))\n",
    "print(weighted_sum_score(text))"
   ]
  },
  {
   "cell_type": "code",
   "execution_count": 10,
   "metadata": {},
   "outputs": [
    {
     "name": "stdout",
     "output_type": "stream",
     "text": [
      "[[2.5813854e-01 2.9679337e-01 1.4852859e-01 1.8646912e-01 9.0049468e-02\n",
      "  1.6015867e-02 2.2455275e-03 6.0565042e-04 2.6135668e-04 8.9249172e-04]]\n",
      "2\n",
      "2.6213711071468424\n"
     ]
    }
   ],
   "source": [
    "text = '이거 망작임... 노잼..'\n",
    "print(predict(text))\n",
    "print(argmax_score(text))\n",
    "print(weighted_sum_score(text))"
   ]
  },
  {
   "cell_type": "code",
   "execution_count": 12,
   "metadata": {},
   "outputs": [
    {
     "name": "stdout",
     "output_type": "stream",
     "text": [
      "[[0.0012155  0.00216439 0.00466361 0.01581859 0.04261071 0.23804\n",
      "  0.29359055 0.35419318 0.03591179 0.01179175]]\n",
      "8\n",
      "7.053905818378553\n"
     ]
    }
   ],
   "source": [
    "text = '가볍게 보기엔 괜찮은듯'\n",
    "print(predict(text))\n",
    "print(argmax_score(text))\n",
    "print(weighted_sum_score(text))"
   ]
  },
  {
   "cell_type": "code",
   "execution_count": 1,
   "metadata": {},
   "outputs": [
    {
     "name": "stderr",
     "output_type": "stream",
     "text": [
      "Using TensorFlow backend.\n",
      "C:\\Users\\h2oin\\Anaconda3\\envs\\nlp_env1\\lib\\site-packages\\tensorflow\\python\\framework\\dtypes.py:516: FutureWarning: Passing (type, 1) or '1type' as a synonym of type is deprecated; in a future version of numpy, it will be understood as (type, (1,)) / '(1,)type'.\n",
      "  _np_qint8 = np.dtype([(\"qint8\", np.int8, 1)])\n",
      "C:\\Users\\h2oin\\Anaconda3\\envs\\nlp_env1\\lib\\site-packages\\tensorflow\\python\\framework\\dtypes.py:517: FutureWarning: Passing (type, 1) or '1type' as a synonym of type is deprecated; in a future version of numpy, it will be understood as (type, (1,)) / '(1,)type'.\n",
      "  _np_quint8 = np.dtype([(\"quint8\", np.uint8, 1)])\n",
      "C:\\Users\\h2oin\\Anaconda3\\envs\\nlp_env1\\lib\\site-packages\\tensorflow\\python\\framework\\dtypes.py:518: FutureWarning: Passing (type, 1) or '1type' as a synonym of type is deprecated; in a future version of numpy, it will be understood as (type, (1,)) / '(1,)type'.\n",
      "  _np_qint16 = np.dtype([(\"qint16\", np.int16, 1)])\n",
      "C:\\Users\\h2oin\\Anaconda3\\envs\\nlp_env1\\lib\\site-packages\\tensorflow\\python\\framework\\dtypes.py:519: FutureWarning: Passing (type, 1) or '1type' as a synonym of type is deprecated; in a future version of numpy, it will be understood as (type, (1,)) / '(1,)type'.\n",
      "  _np_quint16 = np.dtype([(\"quint16\", np.uint16, 1)])\n",
      "C:\\Users\\h2oin\\Anaconda3\\envs\\nlp_env1\\lib\\site-packages\\tensorflow\\python\\framework\\dtypes.py:520: FutureWarning: Passing (type, 1) or '1type' as a synonym of type is deprecated; in a future version of numpy, it will be understood as (type, (1,)) / '(1,)type'.\n",
      "  _np_qint32 = np.dtype([(\"qint32\", np.int32, 1)])\n",
      "C:\\Users\\h2oin\\Anaconda3\\envs\\nlp_env1\\lib\\site-packages\\tensorflow\\python\\framework\\dtypes.py:525: FutureWarning: Passing (type, 1) or '1type' as a synonym of type is deprecated; in a future version of numpy, it will be understood as (type, (1,)) / '(1,)type'.\n",
      "  np_resource = np.dtype([(\"resource\", np.ubyte, 1)])\n",
      "C:\\Users\\h2oin\\Anaconda3\\envs\\nlp_env1\\lib\\site-packages\\tensorboard\\compat\\tensorflow_stub\\dtypes.py:541: FutureWarning: Passing (type, 1) or '1type' as a synonym of type is deprecated; in a future version of numpy, it will be understood as (type, (1,)) / '(1,)type'.\n",
      "  _np_qint8 = np.dtype([(\"qint8\", np.int8, 1)])\n",
      "C:\\Users\\h2oin\\Anaconda3\\envs\\nlp_env1\\lib\\site-packages\\tensorboard\\compat\\tensorflow_stub\\dtypes.py:542: FutureWarning: Passing (type, 1) or '1type' as a synonym of type is deprecated; in a future version of numpy, it will be understood as (type, (1,)) / '(1,)type'.\n",
      "  _np_quint8 = np.dtype([(\"quint8\", np.uint8, 1)])\n",
      "C:\\Users\\h2oin\\Anaconda3\\envs\\nlp_env1\\lib\\site-packages\\tensorboard\\compat\\tensorflow_stub\\dtypes.py:543: FutureWarning: Passing (type, 1) or '1type' as a synonym of type is deprecated; in a future version of numpy, it will be understood as (type, (1,)) / '(1,)type'.\n",
      "  _np_qint16 = np.dtype([(\"qint16\", np.int16, 1)])\n",
      "C:\\Users\\h2oin\\Anaconda3\\envs\\nlp_env1\\lib\\site-packages\\tensorboard\\compat\\tensorflow_stub\\dtypes.py:544: FutureWarning: Passing (type, 1) or '1type' as a synonym of type is deprecated; in a future version of numpy, it will be understood as (type, (1,)) / '(1,)type'.\n",
      "  _np_quint16 = np.dtype([(\"quint16\", np.uint16, 1)])\n",
      "C:\\Users\\h2oin\\Anaconda3\\envs\\nlp_env1\\lib\\site-packages\\tensorboard\\compat\\tensorflow_stub\\dtypes.py:545: FutureWarning: Passing (type, 1) or '1type' as a synonym of type is deprecated; in a future version of numpy, it will be understood as (type, (1,)) / '(1,)type'.\n",
      "  _np_qint32 = np.dtype([(\"qint32\", np.int32, 1)])\n",
      "C:\\Users\\h2oin\\Anaconda3\\envs\\nlp_env1\\lib\\site-packages\\tensorboard\\compat\\tensorflow_stub\\dtypes.py:550: FutureWarning: Passing (type, 1) or '1type' as a synonym of type is deprecated; in a future version of numpy, it will be understood as (type, (1,)) / '(1,)type'.\n",
      "  np_resource = np.dtype([(\"resource\", np.ubyte, 1)])\n"
     ]
    },
    {
     "name": "stdout",
     "output_type": "stream",
     "text": [
      "WARNING:tensorflow:From C:\\Users\\h2oin\\Anaconda3\\envs\\nlp_env1\\lib\\site-packages\\keras\\backend\\tensorflow_backend.py:422: The name tf.global_variables is deprecated. Please use tf.compat.v1.global_variables instead.\n",
      "\n",
      "[[0.01267976 0.01497829 0.01648094 0.01918556 0.03550761 0.04612334\n",
      "  0.10272116 0.2316486  0.33790433 0.18277045]]\n",
      "9\n",
      "8.064179816283286\n"
     ]
    }
   ],
   "source": [
    "from lstm_predictor import predict, argmax_score, weighted_sum_score\n",
    "text = '재미있다.'\n",
    "print(predict(text))\n",
    "print(argmax_score(text))\n",
    "print(weighted_sum_score(text))"
   ]
  },
  {
   "cell_type": "code",
   "execution_count": null,
   "metadata": {},
   "outputs": [],
   "source": []
  }
 ],
 "metadata": {
  "kernelspec": {
   "display_name": "nlp_env1",
   "language": "python",
   "name": "nlp_env1"
  },
  "language_info": {
   "codemirror_mode": {
    "name": "ipython",
    "version": 3
   },
   "file_extension": ".py",
   "mimetype": "text/x-python",
   "name": "python",
   "nbconvert_exporter": "python",
   "pygments_lexer": "ipython3",
   "version": "3.7.4"
  }
 },
 "nbformat": 4,
 "nbformat_minor": 2
}
