{
 "cells": [
  {
   "cell_type": "code",
   "execution_count": 2,
   "metadata": {
    "scrolled": true
   },
   "outputs": [
    {
     "name": "stderr",
     "output_type": "stream",
     "text": [
      "Python 3.6.8 :: Anaconda, Inc.\n"
     ]
    }
   ],
   "source": [
    "!python --version"
   ]
  },
  {
   "cell_type": "code",
   "execution_count": 1,
   "metadata": {},
   "outputs": [],
   "source": [
    "import numpy as np\n",
    "import pandas as pd"
   ]
  },
  {
   "cell_type": "markdown",
   "metadata": {},
   "source": [
    "### Naver Movie Review Rawdata EDA"
   ]
  },
  {
   "cell_type": "code",
   "execution_count": 25,
   "metadata": {},
   "outputs": [
    {
     "name": "stderr",
     "output_type": "stream",
     "text": [
      "C:\\Users\\h2oin\\Anaconda3\\envs\\kaggle_env\\lib\\site-packages\\numpy\\lib\\arraysetops.py:568: FutureWarning: elementwise comparison failed; returning scalar instead, but in the future will perform elementwise comparison\n",
      "  mask |= (ar1 == a)\n"
     ]
    }
   ],
   "source": [
    "nm_review_path = \"./data/nm_review(1258382).tsv\"\n",
    "nm_review_df = pd.read_csv(nm_review_path, delimiter='\\t', index_col=0)"
   ]
  },
  {
   "cell_type": "code",
   "execution_count": 26,
   "metadata": {},
   "outputs": [
    {
     "data": {
      "text/plain": [
       "(1258382, 7)"
      ]
     },
     "execution_count": 26,
     "metadata": {},
     "output_type": "execute_result"
    }
   ],
   "source": [
    "nm_review_df.shape"
   ]
  },
  {
   "cell_type": "code",
   "execution_count": 4,
   "metadata": {},
   "outputs": [
    {
     "data": {
      "text/plain": [
       "10    696295\n",
       "8     132288\n",
       "1     130565\n",
       "9      96227\n",
       "6      55195\n",
       "7      45391\n",
       "2      45147\n",
       "4      26077\n",
       "5      21406\n",
       "3       9791\n",
       "Name: score, dtype: int64"
      ]
     },
     "execution_count": 4,
     "metadata": {},
     "output_type": "execute_result"
    }
   ],
   "source": [
    "nm_review_df['score'].value_counts()"
   ]
  },
  {
   "cell_type": "code",
   "execution_count": 5,
   "metadata": {},
   "outputs": [
    {
     "data": {
      "text/plain": [
       "Index(['code', 'uid', 'datetime', 'score', 'review', 'sympathy',\n",
       "       'notsympathy'],\n",
       "      dtype='object')"
      ]
     },
     "execution_count": 5,
     "metadata": {},
     "output_type": "execute_result"
    }
   ],
   "source": [
    "nm_review_df.columns"
   ]
  },
  {
   "cell_type": "markdown",
   "metadata": {},
   "source": [
    "### 결측값 제거"
   ]
  },
  {
   "cell_type": "code",
   "execution_count": 6,
   "metadata": {},
   "outputs": [],
   "source": [
    "nm_act_review_df = nm_review_df.dropna(axis=0)"
   ]
  },
  {
   "cell_type": "code",
   "execution_count": 27,
   "metadata": {},
   "outputs": [
    {
     "data": {
      "text/plain": [
       "(1198688, 7)"
      ]
     },
     "execution_count": 27,
     "metadata": {},
     "output_type": "execute_result"
    }
   ],
   "source": [
    "nm_act_review_df.shape"
   ]
  },
  {
   "cell_type": "code",
   "execution_count": 8,
   "metadata": {
    "scrolled": true
   },
   "outputs": [
    {
     "data": {
      "text/plain": [
       "10    671624\n",
       "8     126173\n",
       "1     121612\n",
       "9      91573\n",
       "6      51338\n",
       "2      42308\n",
       "7      42263\n",
       "4      23684\n",
       "5      19438\n",
       "3       8675\n",
       "Name: score, dtype: int64"
      ]
     },
     "execution_count": 8,
     "metadata": {},
     "output_type": "execute_result"
    }
   ],
   "source": [
    "nm_act_review_df['score'].value_counts()"
   ]
  },
  {
   "cell_type": "code",
   "execution_count": 32,
   "metadata": {},
   "outputs": [
    {
     "data": {
      "text/html": [
       "<div>\n",
       "<style scoped>\n",
       "    .dataframe tbody tr th:only-of-type {\n",
       "        vertical-align: middle;\n",
       "    }\n",
       "\n",
       "    .dataframe tbody tr th {\n",
       "        vertical-align: top;\n",
       "    }\n",
       "\n",
       "    .dataframe thead th {\n",
       "        text-align: right;\n",
       "    }\n",
       "</style>\n",
       "<table border=\"1\" class=\"dataframe\">\n",
       "  <thead>\n",
       "    <tr style=\"text-align: right;\">\n",
       "      <th></th>\n",
       "      <th>code</th>\n",
       "      <th>uid</th>\n",
       "      <th>datetime</th>\n",
       "      <th>score</th>\n",
       "      <th>review</th>\n",
       "      <th>sympathy</th>\n",
       "      <th>notsympathy</th>\n",
       "    </tr>\n",
       "  </thead>\n",
       "  <tbody>\n",
       "    <tr>\n",
       "      <td>0</td>\n",
       "      <td>167699</td>\n",
       "      <td>15108011</td>\n",
       "      <td>2019.01.11 00:14</td>\n",
       "      <td>2</td>\n",
       "      <td>한글지켜준건 고맙다. 하지만 영화는 엄청 지루하다.</td>\n",
       "      <td>9</td>\n",
       "      <td>18</td>\n",
       "    </tr>\n",
       "    <tr>\n",
       "      <td>1</td>\n",
       "      <td>167699</td>\n",
       "      <td>15108707</td>\n",
       "      <td>2019.01.11 05:36</td>\n",
       "      <td>1</td>\n",
       "      <td>우리나라 영화계는 반일이랑 518 없으면 영화를 만들지를 못해요....</td>\n",
       "      <td>10</td>\n",
       "      <td>19</td>\n",
       "    </tr>\n",
       "    <tr>\n",
       "      <td>2</td>\n",
       "      <td>167699</td>\n",
       "      <td>15112721</td>\n",
       "      <td>2019.01.12 09:42</td>\n",
       "      <td>4</td>\n",
       "      <td>어제 메박가서 보고왔는데 솔직히 지루했습니다. 내용전개도 스토리도 특별하지 않구요....</td>\n",
       "      <td>1</td>\n",
       "      <td>11</td>\n",
       "    </tr>\n",
       "    <tr>\n",
       "      <td>3</td>\n",
       "      <td>167699</td>\n",
       "      <td>15119773</td>\n",
       "      <td>2019.01.13 16:08</td>\n",
       "      <td>2</td>\n",
       "      <td>보지마라 존나 지루하고 잔인</td>\n",
       "      <td>2</td>\n",
       "      <td>12</td>\n",
       "    </tr>\n",
       "    <tr>\n",
       "      <td>4</td>\n",
       "      <td>167699</td>\n",
       "      <td>15105990</td>\n",
       "      <td>2019.01.10 15:53</td>\n",
       "      <td>4</td>\n",
       "      <td>지루하고 또 지루하고 그저그런 영화</td>\n",
       "      <td>2</td>\n",
       "      <td>12</td>\n",
       "    </tr>\n",
       "  </tbody>\n",
       "</table>\n",
       "</div>"
      ],
      "text/plain": [
       "     code       uid          datetime  score  \\\n",
       "0  167699  15108011  2019.01.11 00:14      2   \n",
       "1  167699  15108707  2019.01.11 05:36      1   \n",
       "2  167699  15112721  2019.01.12 09:42      4   \n",
       "3  167699  15119773  2019.01.13 16:08      2   \n",
       "4  167699  15105990  2019.01.10 15:53      4   \n",
       "\n",
       "                                              review  sympathy  notsympathy  \n",
       "0                       한글지켜준건 고맙다. 하지만 영화는 엄청 지루하다.         9           18  \n",
       "1            우리나라 영화계는 반일이랑 518 없으면 영화를 만들지를 못해요....        10           19  \n",
       "2  어제 메박가서 보고왔는데 솔직히 지루했습니다. 내용전개도 스토리도 특별하지 않구요....         1           11  \n",
       "3                                    보지마라 존나 지루하고 잔인         2           12  \n",
       "4                                지루하고 또 지루하고 그저그런 영화         2           12  "
      ]
     },
     "execution_count": 32,
     "metadata": {},
     "output_type": "execute_result"
    }
   ],
   "source": [
    "nm_act_review_df.sort_index().reset_index().drop(['index'], axis=1).head()"
   ]
  },
  {
   "cell_type": "markdown",
   "metadata": {},
   "source": [
    "데이터 저장"
   ]
  },
  {
   "cell_type": "code",
   "execution_count": 33,
   "metadata": {},
   "outputs": [],
   "source": [
    "nm_act_review_df.sort_index().reset_index().drop(['index'], axis=1).to_csv(\"./data/nm_review(dropna).tsv\", sep=\"\\t\", na_rep='NaN', encoding=\"UTF-8\")"
   ]
  },
  {
   "cell_type": "markdown",
   "metadata": {},
   "source": [
    "### 스코어별 데이터 수를 동일하게 샘플링하기"
   ]
  },
  {
   "cell_type": "code",
   "execution_count": 9,
   "metadata": {},
   "outputs": [],
   "source": [
    "def sampling_func(data, sample_n):\n",
    "    np.random.seed(42)\n",
    "    N = len(data)\n",
    "    sample = data.take(np.random.permutation(N)[:sample_n])\n",
    "    return sample"
   ]
  },
  {
   "cell_type": "code",
   "execution_count": 10,
   "metadata": {},
   "outputs": [],
   "source": [
    "nm_sample_df = nm_act_review_df.groupby('score', group_keys=False).apply(sampling_func, sample_n=8675)"
   ]
  },
  {
   "cell_type": "code",
   "execution_count": 12,
   "metadata": {},
   "outputs": [
    {
     "data": {
      "text/plain": [
       "10    8675\n",
       "9     8675\n",
       "8     8675\n",
       "7     8675\n",
       "6     8675\n",
       "5     8675\n",
       "4     8675\n",
       "3     8675\n",
       "2     8675\n",
       "1     8675\n",
       "Name: score, dtype: int64"
      ]
     },
     "execution_count": 12,
     "metadata": {},
     "output_type": "execute_result"
    }
   ],
   "source": [
    "nm_sample_df['score'].value_counts()"
   ]
  },
  {
   "cell_type": "code",
   "execution_count": 23,
   "metadata": {
    "scrolled": true
   },
   "outputs": [
    {
     "data": {
      "text/html": [
       "<div>\n",
       "<style scoped>\n",
       "    .dataframe tbody tr th:only-of-type {\n",
       "        vertical-align: middle;\n",
       "    }\n",
       "\n",
       "    .dataframe tbody tr th {\n",
       "        vertical-align: top;\n",
       "    }\n",
       "\n",
       "    .dataframe thead th {\n",
       "        text-align: right;\n",
       "    }\n",
       "</style>\n",
       "<table border=\"1\" class=\"dataframe\">\n",
       "  <thead>\n",
       "    <tr style=\"text-align: right;\">\n",
       "      <th></th>\n",
       "      <th>code</th>\n",
       "      <th>uid</th>\n",
       "      <th>datetime</th>\n",
       "      <th>score</th>\n",
       "      <th>review</th>\n",
       "      <th>sympathy</th>\n",
       "      <th>notsympathy</th>\n",
       "    </tr>\n",
       "  </thead>\n",
       "  <tbody>\n",
       "    <tr>\n",
       "      <td>0</td>\n",
       "      <td>167699</td>\n",
       "      <td>15108707</td>\n",
       "      <td>2019.01.11 05:36</td>\n",
       "      <td>1</td>\n",
       "      <td>우리나라 영화계는 반일이랑 518 없으면 영화를 만들지를 못해요....</td>\n",
       "      <td>10</td>\n",
       "      <td>19</td>\n",
       "    </tr>\n",
       "    <tr>\n",
       "      <td>1</td>\n",
       "      <td>167699</td>\n",
       "      <td>15112721</td>\n",
       "      <td>2019.01.12 09:42</td>\n",
       "      <td>4</td>\n",
       "      <td>어제 메박가서 보고왔는데 솔직히 지루했습니다. 내용전개도 스토리도 특별하지 않구요....</td>\n",
       "      <td>1</td>\n",
       "      <td>11</td>\n",
       "    </tr>\n",
       "    <tr>\n",
       "      <td>2</td>\n",
       "      <td>167699</td>\n",
       "      <td>15119773</td>\n",
       "      <td>2019.01.13 16:08</td>\n",
       "      <td>2</td>\n",
       "      <td>보지마라 존나 지루하고 잔인</td>\n",
       "      <td>2</td>\n",
       "      <td>12</td>\n",
       "    </tr>\n",
       "    <tr>\n",
       "      <td>3</td>\n",
       "      <td>167651</td>\n",
       "      <td>15189096</td>\n",
       "      <td>2019.01.30 14:48</td>\n",
       "      <td>10</td>\n",
       "      <td>지친 하루를 보냈는데 오랫만에 웃어보았어요.^^</td>\n",
       "      <td>1</td>\n",
       "      <td>0</td>\n",
       "    </tr>\n",
       "    <tr>\n",
       "      <td>4</td>\n",
       "      <td>164172</td>\n",
       "      <td>15405102</td>\n",
       "      <td>2019.03.12 04:52</td>\n",
       "      <td>8</td>\n",
       "      <td>재밋게 보았음 그냥 기분이 좋아지는 코믹물</td>\n",
       "      <td>5</td>\n",
       "      <td>3</td>\n",
       "    </tr>\n",
       "  </tbody>\n",
       "</table>\n",
       "</div>"
      ],
      "text/plain": [
       "     code       uid          datetime  score  \\\n",
       "0  167699  15108707  2019.01.11 05:36      1   \n",
       "1  167699  15112721  2019.01.12 09:42      4   \n",
       "2  167699  15119773  2019.01.13 16:08      2   \n",
       "3  167651  15189096  2019.01.30 14:48     10   \n",
       "4  164172  15405102  2019.03.12 04:52      8   \n",
       "\n",
       "                                              review  sympathy  notsympathy  \n",
       "0            우리나라 영화계는 반일이랑 518 없으면 영화를 만들지를 못해요....        10           19  \n",
       "1  어제 메박가서 보고왔는데 솔직히 지루했습니다. 내용전개도 스토리도 특별하지 않구요....         1           11  \n",
       "2                                    보지마라 존나 지루하고 잔인         2           12  \n",
       "3                         지친 하루를 보냈는데 오랫만에 웃어보았어요.^^         1            0  \n",
       "4                            재밋게 보았음 그냥 기분이 좋아지는 코믹물         5            3  "
      ]
     },
     "execution_count": 23,
     "metadata": {},
     "output_type": "execute_result"
    }
   ],
   "source": [
    "nm_sample_df.sort_index().reset_index().drop(['index'], axis=1).head()"
   ]
  },
  {
   "cell_type": "markdown",
   "metadata": {},
   "source": [
    "데이터 저장"
   ]
  },
  {
   "cell_type": "code",
   "execution_count": 24,
   "metadata": {},
   "outputs": [],
   "source": [
    "nm_sample_df.sort_index().reset_index().drop(['index'], axis=1).to_csv(\"./data/nm_review(score_balanced).tsv\", sep=\"\\t\", na_rep='NaN', encoding=\"UTF-8\")"
   ]
  }
 ],
 "metadata": {
  "kernelspec": {
   "display_name": "nlp_env2",
   "language": "python",
   "name": "nlp_env2"
  },
  "language_info": {
   "codemirror_mode": {
    "name": "ipython",
    "version": 3
   },
   "file_extension": ".py",
   "mimetype": "text/x-python",
   "name": "python",
   "nbconvert_exporter": "python",
   "pygments_lexer": "ipython3",
   "version": "3.7.5"
  }
 },
 "nbformat": 4,
 "nbformat_minor": 2
}
